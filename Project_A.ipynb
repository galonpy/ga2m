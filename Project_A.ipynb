{
 "cells": [
  {
   "cell_type": "code",
   "execution_count": null,
   "metadata": {},
   "outputs": [],
   "source": [
    "#Per Patient Total Probablity of Prediction X axis, probablility, Y axis the frequency\n",
    "#Can split true 0 as X and true 1 as oh's, and split by color for ga2m versus logistic regression etc.\n",
    "\n",
    "#Also graph the difference in percentage between the ga2m and the logistic per patient\n",
    "\n",
    "#Can Also test across time\n",
    "\n",
    "#Dataset: Should be able to handle any"
   ]
  },
  {
   "cell_type": "code",
   "execution_count": null,
   "metadata": {},
   "outputs": [],
   "source": [
    "#Extract the Total probability for a patient in the model\n",
    "\n",
    "#May have to email them if i cant verify that its the exact same input data patient as a protected mechanism\n",
    "\n",
    "#or i can try to directly add up to validate for a few instances\n",
    "patients = []\n",
    "for i in len ebm_local.data():\n",
    "    patients.append(ebm_local.data())\n",
    "\n",
    "#check that first few and last few are the same or throw except...try...except"
   ]
  },
  {
   "cell_type": "code",
   "execution_count": null,
   "metadata": {},
   "outputs": [],
   "source": [
    "-2.1344667832788393 The intercept in the model known as the baseline \n",
    "\n",
    "{'type': 'univariate', 'names': ['male', 'age', 'education', 'currentSmoker', \n",
    "    'cigsPerDay', 'BPMeds', 'prevalentStroke', 'prevalentHyp',\n",
    "    'diabetes', 'totChol', 'sysBP', 'diaBP', 'BMI', 'heartRate', \n",
    "    'glucose', 'BPMeds x totChol'], 'scores': [-0.09701694831241517, \n",
    "     -0.18715275013135585, 0.05464575310387822, 0.07649266106210058, -0.013308106822065291, -0.03279287782078269, -0.003815472944595749, -0.1119203100346583,\n",
    "0.01089100888735399, -0.2073855436852455, -0.20894624530142072, -0.010833915415761314, 1.0194697219397078, 0.0992340760930007, -0.043085275013542146, -0.24589919976732674], \n",
    " 'values': [0.0, 36.0, 1.0, 1.0, 5.0, 0.0, 0.0, 0.0, 0.0, 180.0, 118.0, 80.0, 29.59, 75.0, 84.0, ''], \n",
    " 'extra': {'names': ['Intercept'], 'scores': [-2.1344667832788393], 'values': [1]}, \n",
    " 'perf': {'actual': 0, 'predicted': 0.11548587984120903, 'residual': -0.11548587984120903}}"
   ]
  },
  {
   "cell_type": "code",
   "execution_count": null,
   "metadata": {},
   "outputs": [],
   "source": []
  },
  {
   "cell_type": "code",
   "execution_count": null,
   "metadata": {},
   "outputs": [],
   "source": []
  },
  {
   "cell_type": "code",
   "execution_count": null,
   "metadata": {},
   "outputs": [],
   "source": []
  }
 ],
 "metadata": {
  "kernelspec": {
   "display_name": "Python 3",
   "language": "python",
   "name": "python3"
  },
  "language_info": {
   "codemirror_mode": {
    "name": "ipython",
    "version": 3
   },
   "file_extension": ".py",
   "mimetype": "text/x-python",
   "name": "python",
   "nbconvert_exporter": "python",
   "pygments_lexer": "ipython3",
   "version": "3.7.3"
  }
 },
 "nbformat": 4,
 "nbformat_minor": 2
}
