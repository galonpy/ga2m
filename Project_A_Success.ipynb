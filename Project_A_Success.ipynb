{
 "cells": [
  {
   "cell_type": "code",
   "execution_count": 1,
   "metadata": {},
   "outputs": [],
   "source": [
    "#Per Patient Total Probablity of Prediction X axis, probablility, Y axis the frequency\n",
    "#Can split true 0 as X and true 1 as oh's, and split by color for ga2m versus logistic regression etc.\n",
    "\n",
    "#Graphs the difference in percentage between the ga2m and the logistic per patient\n",
    "\n",
    "#Can Also test across time\n",
    "\n",
    "#Dataset: Should be able to handle any\n",
    "\n",
    "import pandas as pd\n",
    "from sklearn.model_selection import train_test_split\n",
    "import pandas as pd\n",
    "import numpy as np\n",
    "import scipy.stats as st\n",
    "import matplotlib.pyplot as plt\n",
    "import seaborn as sn\n",
    "from sklearn.metrics import confusion_matrix\n",
    "import matplotlib.mlab as mlab\n",
    "%matplotlib inline\n",
    "from interpret import show\n",
    "from interpret.data import ClassHistogram\n",
    "from interpret.glassbox import ExplainableBoostingClassifier, LogisticRegression, ClassificationTree, DecisionListClassifier\n",
    "from interpret.perf import ROC\n",
    "from interpret.glassbox import LogisticRegression, ClassificationTree\n",
    "#without the class structure single shot each time\n",
    "from interpret import show\n",
    "from interpret.data import ClassHistogram\n",
    "from interpret.glassbox import ExplainableBoostingClassifier, LogisticRegression, ClassificationTree, DecisionListClassifier\n",
    "from interpret.perf import ROC\n",
    "from interpret.glassbox import LogisticRegression, ClassificationTree\n",
    "import matplotlib.pyplot as plt\n",
    "import math\n",
    "from sklearn.metrics import mean_squared_error\n",
    "\n"
   ]
  },
  {
   "cell_type": "code",
   "execution_count": 2,
   "metadata": {
    "scrolled": true
   },
   "outputs": [
    {
     "name": "stdout",
     "output_type": "stream",
     "text": [
      "Nan missing values by column\n",
      "education     105\n",
      "cigsPerDay     29\n",
      "BPMeds         53\n",
      "totChol        50\n",
      "BMI            19\n",
      "heartRate       1\n",
      "glucose       388\n",
      "dtype: int64\n",
      "4240\n"
     ]
    }
   ],
   "source": [
    "#Upload Data and Data Cleanup\n",
    "\n",
    "df = pd.read_csv(\"/Users/gabrielalon/Desktop/heartdisease.csv\")\n",
    "df.columns = [\n",
    "    \"male\",\"age\",\"education\",\"currentSmoker\",\"cigsPerDay\",\"BPMeds\",\"prevalentStroke\",\"prevalentHyp\",\"diabetes\",\"totChol\",\"sysBP\",\"diaBP\",\"BMI\",\"heartRate\",\"glucose\",\"TenYearCHD\"\n",
    "]\n",
    "print(\"Nan missing values by column\")\n",
    "#Number of Nans by column\n",
    "missing_val_count_by_column = (df.isnull().sum())\n",
    "print(missing_val_count_by_column[missing_val_count_by_column > 0])\n",
    "print(len(df))"
   ]
  },
  {
   "cell_type": "code",
   "execution_count": 3,
   "metadata": {},
   "outputs": [
    {
     "name": "stdout",
     "output_type": "stream",
     "text": [
      "No Missing values remaining if empty below\n",
      "Series([], dtype: int64)\n",
      "4240\n"
     ]
    }
   ],
   "source": [
    "#Common practice to fill in the mean of the empty values for prediction algorithm to work\n",
    "df.fillna(df.mean(), inplace=True)\n",
    "missing_val_count_by_column = (df.isnull().sum())\n",
    "print(\"No Missing values remaining if empty below\")\n",
    "print(missing_val_count_by_column[missing_val_count_by_column > 0])\n",
    "print(len(df))"
   ]
  },
  {
   "cell_type": "code",
   "execution_count": 4,
   "metadata": {},
   "outputs": [],
   "source": [
    "#Alternative to filling in the mean is to drop the NaN rows\n",
    "\n",
    "#print(missing_val_count_by_column[missing_val_count_by_column > 0])\n",
    "#df.dropna(axis=0,inplace=True)\n",
    "#print(\"No Missing values remaining if empty below\")\n",
    "#missing_val_count_by_column = (df.isnull().sum())\n",
    "#print(len(df))\n"
   ]
  },
  {
   "cell_type": "code",
   "execution_count": 5,
   "metadata": {},
   "outputs": [],
   "source": [
    "def splitting(df):\n",
    "    df = df\n",
    "    train_cols = df.columns[0:-1]\n",
    "    label = df.columns[-1]\n",
    "    X = df[train_cols]\n",
    "    y = df[label] \n",
    "    #y = df[label].apply(lambda x: 0 if x == \" <=50K\" else 1) #Turning response into 0 and 1\n",
    "    seed = 1\n",
    "    X_train, X_test, y_train, y_test = train_test_split(X, y, test_size=0.20, random_state=seed)\n",
    "    return [X_train, y_train, X_test, y_test, X, y]\n",
    "        "
   ]
  },
  {
   "cell_type": "code",
   "execution_count": 6,
   "metadata": {},
   "outputs": [],
   "source": [
    "split_data = splitting(df)\n",
    "X_train = split_data[0] \n",
    "y_train = split_data[1]\n",
    "X_test = split_data[2] \n",
    "y_test = split_data[3]\n",
    "X = split_data[4]\n",
    "y = split_data[5]"
   ]
  },
  {
   "cell_type": "code",
   "execution_count": 7,
   "metadata": {},
   "outputs": [],
   "source": [
    "ebm = ExplainableBoostingClassifier()\n",
    "ebm.fit(X_train, y_train)\n",
    "ebm_global = ebm.explain_global()\n",
    "#show(ebm_global)"
   ]
  },
  {
   "cell_type": "code",
   "execution_count": 8,
   "metadata": {},
   "outputs": [
    {
     "name": "stdout",
     "output_type": "stream",
     "text": [
      "-1.9332242618014839 The intercept in the model known as the baseline \n",
      "\n",
      "{'actual': 0, 'predicted': 0.09660036229535049, 'residual': -0.09660036229535049}\n",
      "predicted 0.09660036229535049\n"
     ]
    }
   ],
   "source": [
    "hist = ClassHistogram().explain_data(X_train, y_train, name = 'Train Data')\n",
    "#show(hist)\n",
    "seed = 1\n",
    "#To specificy specific interaction pairs\n",
    "#ebm = ExplainableBoostingClassifier(random_state=seed)\n",
    "#ebm = ExplainableBoostingClassifier(interactions=[[0, 1], [2, 3]])\n",
    "#To just have a certain number of interaction pairs\n",
    "ebm = ExplainableBoostingClassifier(interactions=1, random_state=seed)\n",
    "ebm.fit(X_train, y_train)   #Works on dataframes and numpy arrays\n",
    "ebm_global = ebm.explain_global(name='EBM')\n",
    "# show(ebm_global)\n",
    "print(ebm.intercept_, \"The intercept in the model known as the baseline \\n\")\n",
    "ebm_local = ebm.explain_local(X_test, y_test, name='EBM')\n",
    "print(ebm_local.data(1)['perf'])\n",
    "print('predicted' ,ebm_local.data(1)['perf']['predicted'])\n",
    "#show(ebm_local)\n",
    "ebm_perf = ROC(ebm.predict_proba).explain_perf(X_test, y_test, name='EBM')\n",
    "#show(ebm_perf)\n",
    "#Length of available data in ebm_local.data is only in the test set???\n"
   ]
  },
  {
   "cell_type": "code",
   "execution_count": 9,
   "metadata": {},
   "outputs": [],
   "source": [
    "#find a way to actually refer directly to the iterable range\n",
    "#print((ebm_local.data(84)))\n",
    "list_predicted_ebm = []\n",
    "ground_truth_ebm = []\n",
    "ebm_len = len(y_test)\n",
    "for i in range(ebm_len):\n",
    "    list_predicted_ebm.append(ebm_local.data(i)['perf']['predicted'])\n",
    "    ground_truth_ebm.append(ebm_local.data(i)['perf']['actual'])"
   ]
  },
  {
   "cell_type": "code",
   "execution_count": 10,
   "metadata": {},
   "outputs": [],
   "source": [
    "#validating that the ground truth are the same\n",
    "#print(list_predicted_ebm)\n",
    "#print(ground_truth_ebm)\n",
    "#print((y_test.iloc[0:-1]))\n",
    "\n",
    "for i in range(len(y_test)):\n",
    "    if (y_test.iloc[i]) == (ebm_local.data(i)['perf']['actual']):\n",
    "        pass\n",
    "    else:\n",
    "        print(\"fail\")"
   ]
  },
  {
   "cell_type": "code",
   "execution_count": 11,
   "metadata": {
    "scrolled": true
   },
   "outputs": [
    {
     "name": "stderr",
     "output_type": "stream",
     "text": [
      "//anaconda3/lib/python3.7/site-packages/sklearn/linear_model/logistic.py:432: FutureWarning: Default solver will be changed to 'lbfgs' in 0.22. Specify a solver to silence this warning.\n",
      "  FutureWarning)\n"
     ]
    }
   ],
   "source": [
    "#Training the other models below\n",
    "# We have to transform categorical variables to use Logistic Regression and Decision Tree\n",
    "seed=1\n",
    "X_enc = pd.get_dummies(X, prefix_sep='.')\n",
    "feature_names = X_enc.columns\n",
    "\n",
    "X_train_enc, X_test_enc, y_train, y_test = train_test_split(X_enc, y, test_size=0.20, random_state=seed)\n",
    "\n",
    "#logistic regression\n",
    "lr = LogisticRegression(random_state=seed, feature_names=feature_names, penalty='l1')\n",
    "lr.fit(X_train_enc, y_train)\n",
    "lr_perf = ROC(lr.predict_proba).explain_perf(X_test_enc, y_test, name='Logistic Regression')\n",
    "#help(lr)\n",
    "#Classification Tree\n",
    "tree = ClassificationTree()\n",
    "tree.fit(X_train_enc, y_train)\n",
    "tree_perf = ROC(tree.predict_proba).explain_perf(X_test_enc, y_test, name='Classification Tree')\n",
    " #show(lr_perf)\n",
    "#show(tree_perf)\n",
    "#show(ebm_perf)\n",
    "#print(lr.__abstractmethods__)\n",
    "#print(lr.__dict__)"
   ]
  },
  {
   "cell_type": "code",
   "execution_count": 12,
   "metadata": {
    "scrolled": true
   },
   "outputs": [
    {
     "name": "stdout",
     "output_type": "stream",
     "text": [
      "0.07945077665327925\n",
      "848 next\n",
      "848\n",
      "848\n"
     ]
    }
   ],
   "source": [
    "#probs = lr.predict_proba(X_enc)\n",
    "probs = lr.predict_proba(X_test_enc)\n",
    "print(probs[0][1])\n",
    "list = []\n",
    "for key in probs:\n",
    "    list.append(key)\n",
    "print(len(list), \"next\")\n",
    "newlist = []\n",
    "for i in (list):\n",
    "    newlist.append((i[1]))\n",
    "print(len(newlist))\n",
    "print(len(list_predicted_ebm))\n",
    "  #  print(list[i])\n",
    "#The first index refers to the probability that the data belong to class 0,\n",
    "#and the second refers to the probability that the data belong to class 1"
   ]
  },
  {
   "cell_type": "markdown",
   "metadata": {},
   "source": [
    "# Why the off by one error?\n",
    "\n",
    "#diff = list_predicted_ebm-x\n",
    "print(len(list_predicted_ebm))\n",
    "print(len(x))\n"
   ]
  },
  {
   "cell_type": "code",
   "execution_count": 13,
   "metadata": {},
   "outputs": [
    {
     "data": {
      "text/plain": [
       "<matplotlib.legend.Legend at 0x1a18c716d8>"
      ]
     },
     "execution_count": 13,
     "metadata": {},
     "output_type": "execute_result"
    },
    {
     "data": {
      "image/png": "[encoded data removed]",
      "text/plain": [
       "<Figure size 432x288 with 1 Axes>"
      ]
     },
     "metadata": {
      "needs_background": "light"
     },
     "output_type": "display_data"
    }
   ],
   "source": [
    "x = newlist\n",
    "fig, ax = plt.subplots()\n",
    "ax.hist(x, 100, label='Logistic Regression')\n",
    "ax.hist(list_predicted_ebm, 100, label='EBM')\n",
    "#plt.hist(list_predicted_ebm, bins = 100, label='$y = numbers')\n",
    "ax.set_ylabel('Frequency')\n",
    "ax.set_xlabel('Probability out of 1')\n",
    "ax.legend()\n",
    "\n",
    "#Why is there so much more data for the logistic regression???!\n",
    "\n",
    "#Note you can't see which sample person is the same across each model"
   ]
  },
  {
   "cell_type": "code",
   "execution_count": 14,
   "metadata": {
    "scrolled": true
   },
   "outputs": [
    {
     "data": {
      "text/plain": [
       "Text(0.5, 0, 'Difference in Probability out of 1')"
      ]
     },
     "execution_count": 14,
     "metadata": {},
     "output_type": "execute_result"
    },
    {
     "data": {
      "image/png": "[encoded data removed]",
      "text/plain": [
       "<Figure size 432x288 with 1 Axes>"
      ]
     },
     "metadata": {
      "needs_background": "light"
     },
     "output_type": "display_data"
    }
   ],
   "source": [
    "subtracted = [list_predicted_ebm-x for list_predicted_ebm, x in zip(list_predicted_ebm,x)]\n",
    "fig, axs = plt.subplots()\n",
    "\n",
    "axs.hist(subtracted, bins = 100)\n",
    "axs.set_title('Difference in Output Probability, Logistic vs, EBM')\n",
    "axs.set_ylabel('Frequency')\n",
    "axs.set_xlabel('Difference in Probability out of 1')"
   ]
  },
  {
   "cell_type": "code",
   "execution_count": 15,
   "metadata": {},
   "outputs": [],
   "source": [
    "#Checking to see if the examples where EBM and Logistic Disagree the most \n",
    "#ie: by more than 10% probability, how often was each model closer to the truth in the dataset"
   ]
  },
  {
   "cell_type": "code",
   "execution_count": 16,
   "metadata": {
    "scrolled": true
   },
   "outputs": [
    {
     "name": "stdout",
     "output_type": "stream",
     "text": [
      "patient # 13 disagreement of 28.83 % EBM: 45.33 logistic 16.5 ground truth 0\n",
      "patient # 42 disagreement of 13.74 % EBM: 50.51 logistic 36.77 ground truth 0\n",
      "patient # 92 disagreement of 11.34 % EBM: 37.24 logistic 25.9 ground truth 1\n",
      "patient # 169 disagreement of 13.24 % EBM: 40.94 logistic 27.7 ground truth 0\n",
      "patient # 252 disagreement of 18.17 % EBM: 89.31 logistic 71.14 ground truth 1\n",
      "patient # 287 disagreement of 10.4 % EBM: 37.3 logistic 26.9 ground truth 1\n",
      "patient # 344 disagreement of 16.64 % EBM: 47.57 logistic 30.93 ground truth 1\n",
      "patient # 429 disagreement of 16.77 % EBM: 41.04 logistic 24.27 ground truth 0\n",
      "patient # 437 disagreement of 10.75 % EBM: 18.49 logistic 7.75 ground truth 0\n",
      "patient # 489 disagreement of 12.73 % EBM: 38.72 logistic 25.99 ground truth 0\n",
      "patient # 504 disagreement of 16.22 % EBM: 25.45 logistic 9.22 ground truth 0\n",
      "patient # 529 disagreement of 10.48 % EBM: 25.44 logistic 14.95 ground truth 0\n",
      "patient # 550 disagreement of 34.06 % EBM: 55.97 logistic 21.91 ground truth 0\n",
      "patient # 593 disagreement of 11.87 % EBM: 18.67 logistic 6.8 ground truth 0\n",
      "patient # 634 disagreement of 10.79 % EBM: 34.4 logistic 23.61 ground truth 0\n",
      "patient # 699 disagreement of 10.37 % EBM: 45.45 logistic 35.08 ground truth 0\n",
      "patient # 703 disagreement of 10.52 % EBM: 27.36 logistic 16.85 ground truth 1\n",
      "patient # 715 disagreement of 43.96 % EBM: 90.22 logistic 46.26 ground truth 0\n",
      "patient # 794 disagreement of 15.82 % EBM: 35.88 logistic 20.06 ground truth 1\n",
      "patient # 809 disagreement of 11.18 % EBM: 29.58 logistic 18.4 ground truth 0\n",
      "patient # 843 disagreement of 24.38 % EBM: 55.61 logistic 31.23 ground truth 1\n"
     ]
    }
   ],
   "source": [
    "ebm_wins = 0\n",
    "logistic_wins = 0\n",
    "y_test_index = y_test.tolist()\n",
    "for i in range(len(subtracted)):\n",
    "    if subtracted[i] > 0.1:\n",
    "        print(\"patient #\", i, \"disagreement of\", \n",
    "        round(subtracted[i]*100,2),'%', 'EBM:', round(list_predicted_ebm[i]*100,2), 'logistic', round((x[i]*100),2), 'ground truth', y_test_index[i])\n",
    "        if abs(list_predicted_ebm[i]-y_test_index[i]) < abs(x[i]-y_test_index[i]):\n",
    "          #  print('EBM was closer above')\n",
    "            ebm_wins +=1\n",
    "        else:\n",
    "            logistic_wins +=1"
   ]
  },
  {
   "cell_type": "code",
   "execution_count": 17,
   "metadata": {},
   "outputs": [
    {
     "name": "stdout",
     "output_type": "stream",
     "text": [
      "observe which number is bigger by how much\n",
      "7 ebm wins: when it was closer to the truth\n",
      "14 logistic wins: when it was closer to the truth\n"
     ]
    }
   ],
   "source": [
    "print(\"observe which number is bigger by how much\")\n",
    "print(ebm_wins, 'ebm wins: when it was closer to the truth')\n",
    "print(logistic_wins, 'logistic wins: when it was closer to the truth')"
   ]
  },
  {
   "cell_type": "code",
   "execution_count": 18,
   "metadata": {},
   "outputs": [
    {
     "data": {
      "text/html": [
       "<!-- http://127.0.0.1:7624/112077729520/ -->\n",
       "<iframe src=\"http://127.0.0.1:7624/112077729520/\" width=100% height=800 frameBorder=\"0\"></iframe>"
      ]
     },
     "metadata": {},
     "output_type": "display_data"
    }
   ],
   "source": [
    "#The format z-1:z shows you datapoint z\n",
    "ebm_local = ebm.explain_local(X_test[13:14], y_test[13:14], name='EBM')\n",
    "show(ebm_local)"
   ]
  },
  {
   "cell_type": "code",
   "execution_count": 19,
   "metadata": {},
   "outputs": [
    {
     "data": {
      "text/html": [
       "<!-- http://127.0.0.1:7624/112077726160/ -->\n",
       "<iframe src=\"http://127.0.0.1:7624/112077726160/\" width=100% height=800 frameBorder=\"0\"></iframe>"
      ]
     },
     "metadata": {},
     "output_type": "display_data"
    }
   ],
   "source": [
    "#The format z-1:z shows you datapoint z\n",
    "#Observing the Per Explanatory Variable graphs for each of those key patients \n",
    "lr_local =lr.explain_local(X_test[13:14], y_test[13:14], name='lr')\n",
    "show(lr_local)\n",
    "\n"
   ]
  },
  {
   "cell_type": "code",
   "execution_count": 20,
   "metadata": {},
   "outputs": [
    {
     "data": {
      "image/png": "[encoded data removed]",
      "text/plain": [
       "<Figure size 432x288 with 1 Axes>"
      ]
     },
     "metadata": {
      "needs_background": "light"
     },
     "output_type": "display_data"
    }
   ],
   "source": [
    "#plotting the absolute value\n",
    "subtracted_absolute = [abs(100*(list_predicted_ebm-x)) for list_predicted_ebm, x in zip(list_predicted_ebm,x)]\n",
    "fig, axn = plt.subplots()\n",
    "axn.hist(subtracted_absolute, bins = 60)\n",
    "axn.set_title('Difference in Output Probability, Logistic vs, EBM')\n",
    "axn.set_ylabel('Frequency')\n",
    "axn.set_xlabel('Difference in Probability out of 1')\n",
    "#set_size(10,1)\n",
    "axn.tick_params(direction='out', length=6, width=2, colors='r',\n",
    "               grid_color='r', grid_alpha=2)"
   ]
  },
  {
   "cell_type": "markdown",
   "metadata": {},
   "source": [
    "# These are the patients/samples with the greatest percentage difference in prediction"
   ]
  },
  {
   "cell_type": "code",
   "execution_count": 21,
   "metadata": {},
   "outputs": [
    {
     "data": {
      "text/plain": [
       "Text(0.5, 0, 'Difference in Probability out of 1')"
      ]
     },
     "execution_count": 21,
     "metadata": {},
     "output_type": "execute_result"
    },
    {
     "data": {
      "image/png": "[encoded data removed]",
      "text/plain": [
       "<Figure size 432x288 with 1 Axes>"
      ]
     },
     "metadata": {
      "needs_background": "light"
     },
     "output_type": "display_data"
    }
   ],
   "source": [
    "#plotting the absolute value\n",
    "subtracted_absolute = [abs(100*(list_predicted_ebm-x)) if abs(100*(list_predicted_ebm-x))>10 else 0 for list_predicted_ebm, x in zip(list_predicted_ebm,x)]\n",
    "#delete all the ones the filter passed over\n",
    "#subtracted_absolute_greater_than = [subtracted_absolute\n",
    "subtracted_absolute = [i for i in subtracted_absolute if i>15] \n",
    "fig, axn = plt.subplots()\n",
    "axn.hist(subtracted_absolute, bins = 60)\n",
    "axn.set_title('More Extreme Difference in Output Probability,\\n Logistic Minus EBM in Absolute Value')\n",
    "axn.set_ylabel('Frequency')\n",
    "axn.set_xlabel('Difference in Probability out of 1')\n",
    "#set_size(10,1)"
   ]
  },
  {
   "cell_type": "markdown",
   "metadata": {},
   "source": [
    "# The rest does not apply to this experiment"
   ]
  },
  {
   "cell_type": "code",
   "execution_count": 22,
   "metadata": {
    "scrolled": true
   },
   "outputs": [
    {
     "name": "stdout",
     "output_type": "stream",
     "text": [
      "<class 'list'>\n",
      "<class 'list'>\n"
     ]
    }
   ],
   "source": [
    "#Converting the logits to Probability. Seems like they were already in probability........\n",
    "#add index to the lists before \n",
    "#subtracteding and sort by biggest difference to identify which sample had the most disagreement\n",
    "\n",
    "#did that first subtraction even make sense given that there is a nonlinear conversion to the probability?!!!\n",
    "#you should convert to probablity before subtracting\n",
    "\n",
    "#https://sebastiansauer.github.io/convert_logit2prob/\n",
    "\n",
    "#have to round off floats to do the conversion\n",
    "logit = -2\n",
    "def to_probability(logit):\n",
    "    try:\n",
    "        for i in range(len(logit)):\n",
    "            odds = math.exp(logit[i])\n",
    "            prob = odds/ (1 + odds)\n",
    "            logit[i] = prob\n",
    "        return(logit)\n",
    "    except:\n",
    "        print(\"no\")\n",
    "print(type(newlist))\n",
    "print(type(list_predicted_ebm))"
   ]
  },
  {
   "cell_type": "code",
   "execution_count": 23,
   "metadata": {},
   "outputs": [],
   "source": [
    "#Model ensemble better?"
   ]
  },
  {
   "cell_type": "code",
   "execution_count": null,
   "metadata": {},
   "outputs": [],
   "source": []
  },
  {
   "cell_type": "code",
   "execution_count": null,
   "metadata": {},
   "outputs": [],
   "source": []
  },
  {
   "cell_type": "code",
   "execution_count": null,
   "metadata": {},
   "outputs": [],
   "source": []
  },
  {
   "cell_type": "code",
   "execution_count": null,
   "metadata": {},
   "outputs": [],
   "source": []
  }
 ],
 "metadata": {
  "kernelspec": {
   "display_name": "Python 3",
   "language": "python",
   "name": "python3"
  },
  "language_info": {
   "codemirror_mode": {
    "name": "ipython",
    "version": 3
   },
   "file_extension": ".py",
   "mimetype": "text/x-python",
   "name": "python",
   "nbconvert_exporter": "python",
   "pygments_lexer": "ipython3",
   "version": "3.7.3"
  }
 },
 "nbformat": 4,
 "nbformat_minor": 2
}
