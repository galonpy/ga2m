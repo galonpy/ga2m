{
 "cells": [
  {
   "cell_type": "code",
   "execution_count": null,
   "metadata": {},
   "outputs": [],
   "source": []
  },
  {
   "cell_type": "code",
   "execution_count": 1,
   "metadata": {},
   "outputs": [],
   "source": [
    "#https://github.com/interpretml/interpret\n",
    "#pip install -U interpret\n",
    "\n",
    "#Title: Reporting Ground Truth Divergence and why reporting MSE or AUC scores is not sufficient in probabilistic classification\n",
    "\n",
    "#Experiment Description: To demonstrate new meaningful comparisons between logistic regression (scientific standard),\n",
    "#and the Generalized Additive Pairwise Model also called Explainable Boosting Machine(GA2M/EBM).\n",
    "#These experiments critically inspect the notion that GA2M/EBM is more interpretable than logistic regression. \n",
    "#It also reveals why reporting only the AUC score(derived from a notion of balancing true and false positive rate)\n",
    "#in prediction is insufficient to consider one model to be better than the other. This experiment does that by\n",
    "#showing which model performs better when focusing on the difference in outcome probability for each sample.\n",
    "#I term this the \"disagreement\" between the models. The logistic regression seems to perform consistently better\n",
    "#when identifying which of the models was closer to the ground truth\n",
    "#when the \"disagreement\" is greater and greater.\n",
    "\n",
    "#Contents:\n",
    "#Graph 1: The probability prediction for each sample in the dataset on the X-Axis, and the frequency on the Y-Axis\n",
    "#In terms of output probability the GA2M/EBM seem to be almost the same as logistic regression for\n",
    "#this dataset at first glance. But this level of visibility does not associate each sample with its \n",
    "#corresponding value in the other model\n",
    "\n",
    "#Graph 2: For each sample in the dataset, this graph shows the difference in probability prediction\n",
    "#between the two models. In other words, the disagreement. Some of the samples disagree from 10-20%, and even 40%!\n",
    "#Is one model performing much better in these extreme disagreements? Are disagreements equally likely? How often\n",
    "#do these large disagreements occur?\n",
    "\n",
    "#Graph 3/4: In the section that says \"which model was closer to the ground truth\".\n",
    "##If you think about these two graphs together,\n",
    "#the logistic regression seems to have consistently better performance than the GA2M/EBM model.\n",
    "#Although GA2M/EBM is liked for its potentially more interpretable variable coefficient graphs,\n",
    "#why accept vague interpretablity at the cost of bizzare performance mistakes?\n",
    "\n",
    "#Next Steps: I'm going to apply this sequence to the other datasets that the authors used in the open source github.\n",
    "#Also I can vary the number of interaction terms in the GA2M model and report the results jointly.\n",
    "\n",
    "\n",
    "#Context: GA2M/EBM allows the coefficent for each variable to vary more freely than logistic regression.\n",
    "#Ex: In logistic regression if the coefficent on Age is 3, then the contribution to the outcome prediction as you\n",
    "#increase the input Age by 1 unit at a time is another 3 fixed probability units. In GA2M/EBM, \n",
    "#the model \"learns\" a continous \n",
    "#function that determines the contribution of that variable which could vary nonlinearly such as a parobola. \n",
    "#Furthermore, the model learns 2D interactions which can also be visualized, but as heatmaps. However, \n",
    "#when the model includes 2D interaction terms this confounds the interpretation of a single variable contribution\n",
    "#to the outcome prediction. This is another reason why the notion that the authors are pushing that the algorithm\n",
    "#is more interpretable than logistic regression can seem overblown. Is GA2M/EBM merely a fuzzy\n",
    "#approximation of logistic regression without any standout benefits? Is it always sacrificing performance\n",
    "#on a subset of the data for \"interpetability\" and that's why only AUC is being reported?\n",
    "\n",
    "\n",
    "#GA2M/EBM is being pushed by Microsoft AI as a part of their InterpretML open source project.\n",
    "\n",
    "#About this author: Previously Acknowledged in the Contributors Section of the open source InterpretML project"
   ]
  },
  {
   "cell_type": "code",
   "execution_count": 2,
   "metadata": {},
   "outputs": [],
   "source": [
    "#Can Also test across time\n",
    "#Dataset: Should be able to handle any\n",
    "\n",
    "import pandas as pd\n",
    "from sklearn.model_selection import train_test_split\n",
    "import pandas as pd\n",
    "import numpy as np\n",
    "import scipy.stats as st\n",
    "import matplotlib.pyplot as plt\n",
    "import seaborn as sn\n",
    "from sklearn.metrics import confusion_matrix\n",
    "import matplotlib.mlab as mlab\n",
    "%matplotlib inline\n",
    "from interpret import show\n",
    "from interpret.data import ClassHistogram\n",
    "from interpret.glassbox import ExplainableBoostingClassifier, LogisticRegression, ClassificationTree, DecisionListClassifier\n",
    "from interpret.perf import ROC\n",
    "from interpret.glassbox import LogisticRegression, ClassificationTree\n",
    "#without the class structure single shot each time\n",
    "from interpret import show\n",
    "from interpret.data import ClassHistogram\n",
    "from interpret.glassbox import ExplainableBoostingClassifier, LogisticRegression, ClassificationTree, DecisionListClassifier\n",
    "from interpret.perf import ROC\n",
    "from interpret.glassbox import LogisticRegression, ClassificationTree\n",
    "import matplotlib.pyplot as plt\n",
    "import math\n",
    "from sklearn.metrics import mean_squared_error"
   ]
  },
  {
   "cell_type": "code",
   "execution_count": 3,
   "metadata": {
    "scrolled": true
   },
   "outputs": [
    {
     "name": "stdout",
     "output_type": "stream",
     "text": [
      "Nan missing values by column\n",
      "education     105\n",
      "cigsPerDay     29\n",
      "BPMeds         53\n",
      "totChol        50\n",
      "BMI            19\n",
      "heartRate       1\n",
      "glucose       388\n",
      "dtype: int64\n",
      "4240\n"
     ]
    }
   ],
   "source": [
    "#Upload Data and Data Cleanup\n",
    "\n",
    "df = pd.read_csv(\"/Users/gabrielalon/Desktop/heartdisease.csv\")\n",
    "df.columns = [\n",
    "    \"male\",\"age\",\"education\",\"currentSmoker\",\"cigsPerDay\",\"BPMeds\",\"prevalentStroke\",\"prevalentHyp\",\"diabetes\",\"totChol\",\"sysBP\",\"diaBP\",\"BMI\",\"heartRate\",\"glucose\",\"TenYearCHD\"\n",
    "]\n",
    "print(\"Nan missing values by column\")\n",
    "#Number of Nans by column\n",
    "missing_val_count_by_column = (df.isnull().sum())\n",
    "print(missing_val_count_by_column[missing_val_count_by_column > 0])\n",
    "print(len(df))"
   ]
  },
  {
   "cell_type": "code",
   "execution_count": 4,
   "metadata": {},
   "outputs": [
    {
     "name": "stdout",
     "output_type": "stream",
     "text": [
      "No Missing values remaining if empty below\n",
      "Series([], dtype: int64)\n",
      "4240\n"
     ]
    }
   ],
   "source": [
    "#Common practice to fill in the mean of the empty values for prediction algorithm to work\n",
    "df.fillna(df.mean(), inplace=True)\n",
    "missing_val_count_by_column = (df.isnull().sum())\n",
    "print(\"No Missing values remaining if empty below\")\n",
    "print(missing_val_count_by_column[missing_val_count_by_column > 0])\n",
    "print(len(df))"
   ]
  },
  {
   "cell_type": "code",
   "execution_count": 5,
   "metadata": {},
   "outputs": [],
   "source": [
    "#Alternative to filling in the mean is to drop the NaN rows\n",
    "\n",
    "#print(missing_val_count_by_column[missing_val_count_by_column > 0])\n",
    "#df.dropna(axis=0,inplace=True)\n",
    "#print(\"No Missing values remaining if empty below\")\n",
    "#missing_val_count_by_column = (df.isnull().sum())\n",
    "#print(len(df))\n"
   ]
  },
  {
   "cell_type": "code",
   "execution_count": 6,
   "metadata": {},
   "outputs": [],
   "source": [
    "def splitting(df):\n",
    "    df = df\n",
    "    train_cols = df.columns[0:-1]\n",
    "    label = df.columns[-1]\n",
    "    X = df[train_cols]\n",
    "    y = df[label] \n",
    "    #y = df[label].apply(lambda x: 0 if x == \" <=50K\" else 1) #Turning response into 0 and 1\n",
    "    seed = 1\n",
    "    X_train, X_test, y_train, y_test = train_test_split(X, y, test_size=0.20, random_state=seed)\n",
    "    return [X_train, y_train, X_test, y_test, X, y]\n",
    "        "
   ]
  },
  {
   "cell_type": "code",
   "execution_count": 7,
   "metadata": {},
   "outputs": [],
   "source": [
    "split_data = splitting(df)\n",
    "X_train = split_data[0] \n",
    "y_train = split_data[1]\n",
    "X_test = split_data[2] \n",
    "y_test = split_data[3]\n",
    "X = split_data[4]\n",
    "y = split_data[5]"
   ]
  },
  {
   "cell_type": "code",
   "execution_count": 8,
   "metadata": {
    "scrolled": true
   },
   "outputs": [],
   "source": [
    "ebm = ExplainableBoostingClassifier()\n",
    "ebm.fit(X_train, y_train)\n",
    "ebm_global = ebm.explain_global()\n",
    "#show(ebm_global)"
   ]
  },
  {
   "cell_type": "code",
   "execution_count": 10,
   "metadata": {},
   "outputs": [
    {
     "name": "stdout",
     "output_type": "stream",
     "text": [
      "[-1.94679907] The intercept in the model known as the baseline \n",
      "\n",
      "{'actual': 0, 'predicted': 0.08644075660117712, 'residual': -0.08644075660117712}\n",
      "predicted 0.08644075660117712\n"
     ]
    }
   ],
   "source": [
    "hist = ClassHistogram().explain_data(X_train, y_train, name = 'Train Data')\n",
    "#show(hist)\n",
    "seed = 1\n",
    "#To specificy specific interaction pairs\n",
    "#ebm = ExplainableBoostingClassifier(random_state=seed)\n",
    "#ebm = ExplainableBoostingClassifier(interactions=[[0, 1], [2, 3]])\n",
    "#To just have a certain number of interaction pairs\n",
    "ebm = ExplainableBoostingClassifier(interactions=6, random_state=seed)\n",
    "ebm.fit(X_train, y_train)   #Works on dataframes and numpy arrays\n",
    "ebm_global = ebm.explain_global(name='EBM')\n",
    "# show(ebm_global)\n",
    "print(ebm.intercept_, \"The intercept in the model known as the baseline \\n\")\n",
    "ebm_local = ebm.explain_local(X_test, y_test, name='EBM')\n",
    "print(ebm_local.data(1)['perf'])\n",
    "print('predicted',ebm_local.data(1)['perf']['predicted'])\n",
    "#show(ebm_local)\n",
    "ebm_perf = ROC(ebm.predict_proba).explain_perf(X_test, y_test, name='EBM')\n",
    "#show(ebm_perf)\n",
    "#ebm_perf is AUC performance\n",
    "\n",
    "#Length of available data in ebm_local.data is only in the test set???"
   ]
  },
  {
   "cell_type": "code",
   "execution_count": 11,
   "metadata": {},
   "outputs": [
    {
     "name": "stdout",
     "output_type": "stream",
     "text": [
      "534     0\n",
      "2751    0\n",
      "3599    0\n",
      "518     0\n",
      "3813    0\n",
      "       ..\n",
      "1649    1\n",
      "4172    0\n",
      "2401    0\n",
      "3475    0\n",
      "1945    0\n",
      "Name: TenYearCHD, Length: 848, dtype: int64\n"
     ]
    }
   ],
   "source": [
    "#iterate through all the actual and predicted values and compute the mean squared error on the test set\n",
    "#for i in ebm_local_data(1)\n",
    "#mean_squared_error(y_test, y)\n",
    "print(y_test)"
   ]
  },
  {
   "cell_type": "code",
   "execution_count": 12,
   "metadata": {},
   "outputs": [],
   "source": [
    "#find a way to actually refer directly to the iterable range\n",
    "#print((ebm_local.data(84)))\n",
    "list_predicted_ebm = []\n",
    "ground_truth_ebm = []\n",
    "ebm_len = len(y_test)\n",
    "for i in range(ebm_len):\n",
    "    list_predicted_ebm.append(ebm_local.data(i)['perf']['predicted'])\n",
    "    ground_truth_ebm.append(ebm_local.data(i)['perf']['actual'])"
   ]
  },
  {
   "cell_type": "code",
   "execution_count": 13,
   "metadata": {},
   "outputs": [],
   "source": [
    "#validating that the ground truth are the same\n",
    "#print(list_predicted_ebm)\n",
    "#print(ground_truth_ebm)\n",
    "#print((y_test.iloc[0:-1]))\n",
    "\n",
    "for i in range(len(y_test)):\n",
    "    if (y_test.iloc[i]) == (ebm_local.data(i)['perf']['actual']):\n",
    "        pass\n",
    "    else:\n",
    "        print(\"fail\")"
   ]
  },
  {
   "cell_type": "code",
   "execution_count": 14,
   "metadata": {
    "scrolled": true
   },
   "outputs": [
    {
     "name": "stderr",
     "output_type": "stream",
     "text": [
      "//anaconda3/lib/python3.7/site-packages/sklearn/linear_model/logistic.py:432: FutureWarning: Default solver will be changed to 'lbfgs' in 0.22. Specify a solver to silence this warning.\n",
      "  FutureWarning)\n"
     ]
    }
   ],
   "source": [
    "#Training the other models below\n",
    "# We have to transform categorical variables to use Logistic Regression and Decision Tree\n",
    "seed=1\n",
    "X_enc = pd.get_dummies(X, prefix_sep='.')\n",
    "feature_names = X_enc.columns\n",
    "\n",
    "X_train_enc, X_test_enc, y_train, y_test = train_test_split(X_enc, y, test_size=0.20, random_state=seed)\n",
    "\n",
    "#logistic regression\n",
    "lr = LogisticRegression(random_state=seed, feature_names=feature_names, penalty='l2')\n",
    "lr.fit(X_train_enc, y_train)\n",
    "lr_perf = ROC(lr.predict_proba).explain_perf(X_test_enc, y_test, name='Logistic Regression')\n",
    "#help(lr)\n",
    "#Classification Tree\n",
    "tree = ClassificationTree()\n",
    "tree.fit(X_train_enc, y_train)\n",
    "tree_perf = ROC(tree.predict_proba).explain_perf(X_test_enc, y_test, name='Classification Tree')\n",
    "#show(tree_perf)\n",
    "#show(ebm_perf)\n",
    "#print(lr.__abstractmethods__)\n",
    "#print(lr.__dict__)"
   ]
  },
  {
   "cell_type": "code",
   "execution_count": 15,
   "metadata": {},
   "outputs": [
    {
     "data": {
      "text/html": [
       "<!-- http://127.0.0.1:7887/4754136144/ -->\n",
       "<iframe src=\"http://127.0.0.1:7887/4754136144/\" width=100% height=800 frameBorder=\"0\"></iframe>"
      ]
     },
     "metadata": {},
     "output_type": "display_data"
    }
   ],
   "source": [
    "#Plotting two AUC graphs or getting the scores is not sufficient for understanding who was\n",
    "#actually impacted (patients or samples). Note below the graphs look the same. Logistic performs \"better\" however.\n",
    "show(lr_perf)"
   ]
  },
  {
   "cell_type": "code",
   "execution_count": 16,
   "metadata": {},
   "outputs": [],
   "source": [
    "#Recall that a higher AUC \"Area under the Curve\" is considered better"
   ]
  },
  {
   "cell_type": "code",
   "execution_count": 17,
   "metadata": {},
   "outputs": [
    {
     "data": {
      "text/html": [
       "<!-- http://127.0.0.1:7887/4429051384/ -->\n",
       "<iframe src=\"http://127.0.0.1:7887/4429051384/\" width=100% height=800 frameBorder=\"0\"></iframe>"
      ]
     },
     "metadata": {},
     "output_type": "display_data"
    }
   ],
   "source": [
    "show(ebm_perf)"
   ]
  },
  {
   "cell_type": "code",
   "execution_count": 18,
   "metadata": {},
   "outputs": [],
   "source": [
    "#plot the overlapping top see if theres a perfomance region that overlaps"
   ]
  },
  {
   "cell_type": "code",
   "execution_count": 19,
   "metadata": {
    "scrolled": true
   },
   "outputs": [
    {
     "name": "stdout",
     "output_type": "stream",
     "text": [
      "0.09916454919691066\n",
      "848 next\n",
      "848\n",
      "848\n"
     ]
    }
   ],
   "source": [
    "#probs = lr.predict_proba(X_enc)\n",
    "probs = lr.predict_proba(X_test_enc)\n",
    "print(probs[0][1])\n",
    "list = []\n",
    "for key in probs:\n",
    "    list.append(key)\n",
    "print(len(list), \"next\")\n",
    "newlist = []\n",
    "for i in (list):\n",
    "    newlist.append((i[1]))\n",
    "print(len(newlist))\n",
    "print(len(list_predicted_ebm))\n",
    "  #  print(list[i])\n",
    "#The first index refers to the probability that the data belong to class 0,\n",
    "#and the second refers to the probability that the data belong to class 1\n",
    "\n",
    "#I'm going to use the second index since its convention to think in context of predicted the class 1\n",
    "logistic_predicted =[]\n",
    "for i in range(len(list)):\n",
    "   logistic_predicted.append(list[i][1])"
   ]
  },
  {
   "cell_type": "code",
   "execution_count": 20,
   "metadata": {},
   "outputs": [
    {
     "name": "stdout",
     "output_type": "stream",
     "text": [
      "for logistic\n",
      "MSE: 0.11727486508783502\n",
      "RMSE: 0.3424541795449941\n"
     ]
    }
   ],
   "source": [
    "#MSE and RMSE for logistic\n",
    "mse = mean_squared_error(logistic_predicted, ground_truth_ebm)\n",
    "from math import sqrt\n",
    "print(\"for logistic\")\n",
    "print(\"MSE:\",mse)\n",
    "rmse = sqrt(mse)\n",
    "print(\"RMSE:\",rmse)"
   ]
  },
  {
   "cell_type": "code",
   "execution_count": 21,
   "metadata": {},
   "outputs": [
    {
     "name": "stdout",
     "output_type": "stream",
     "text": [
      "for EBM/GA2M\n",
      "MSE: 0.11998381666854355\n",
      "RMSE: 0.34638680209924794\n"
     ]
    }
   ],
   "source": [
    "#For EBM/GA2M Computing Mean Squared Error and Root Mean Squared Error \n",
    "mse = mean_squared_error(list_predicted_ebm, ground_truth_ebm)\n",
    "from math import sqrt\n",
    "print(\"for EBM/GA2M\")\n",
    "print(\"MSE:\",mse)\n",
    "rmse = sqrt(mse)\n",
    "print(\"RMSE:\",rmse)"
   ]
  },
  {
   "cell_type": "code",
   "execution_count": 121,
   "metadata": {},
   "outputs": [
    {
     "data": {
      "image/png": "[encoded data removed]",
      "text/plain": [
       "<Figure size 432x288 with 1 Axes>"
      ]
     },
     "metadata": {
      "needs_background": "light"
     },
     "output_type": "display_data"
    }
   ],
   "source": [
    "# plot impact of logloss with balanced datasets\n",
    "from sklearn.metrics import log_loss\n",
    "from matplotlib import pyplot\n",
    "from numpy import array\n",
    "# define a balanced dataset\n",
    "testy = [0 for x in range(50)] + [1 for x in range(50)]\n",
    "# loss for predicting different fixed probability values\n",
    "predictions = [0.0, 0.1, 0.2, 0.3, 0.4, 0.5, 0.6, 0.7, 0.8, 0.9, 1.0]\n",
    "losses = [log_loss(testy, [y for x in range(len(testy))]) for y in predictions]\n",
    "# plot predictions vs loss\n",
    "pyplot.plot(predictions, losses)\n",
    "pyplot.show()"
   ]
  },
  {
   "cell_type": "code",
   "execution_count": 21,
   "metadata": {},
   "outputs": [],
   "source": [
    "#off by one?\n",
    "#diff = list_predicted_ebm-x\n",
    "#print(len(list_predicted_ebm))\n",
    "#print(len(x))"
   ]
  },
  {
   "cell_type": "markdown",
   "metadata": {},
   "source": [
    "# Make sure that these are all graphs on the test set only?"
   ]
  },
  {
   "cell_type": "code",
   "execution_count": 22,
   "metadata": {},
   "outputs": [
    {
     "data": {
      "text/plain": [
       "<matplotlib.legend.Legend at 0x11d1023c8>"
      ]
     },
     "execution_count": 22,
     "metadata": {},
     "output_type": "execute_result"
    },
    {
     "data": {
      "image/png": "[encoded data removed]",
      "text/plain": [
       "<Figure size 432x288 with 1 Axes>"
      ]
     },
     "metadata": {
      "needs_background": "light"
     },
     "output_type": "display_data"
    }
   ],
   "source": [
    "#x = newlist\n",
    "x = logistic_predicted\n",
    "fig, ax = plt.subplots()\n",
    "ax.hist(x, 100, label='Logistic Regression')\n",
    "ax.hist(list_predicted_ebm, 100, label='EBM')\n",
    "#plt.hist(list_predicted_ebm, bins = 100, label='$y = numbers')\n",
    "ax.set_ylabel('Frequency')\n",
    "ax.set_xlabel('Probability out of 1')\n",
    "ax.legend()\n",
    "\n",
    "#Why is there so much more data for the logistic regression???!\n",
    "\n",
    "#Note you can't see which sample person is the same across each model"
   ]
  },
  {
   "cell_type": "code",
   "execution_count": 23,
   "metadata": {
    "scrolled": true
   },
   "outputs": [
    {
     "data": {
      "text/plain": [
       "Text(0.5, 0, 'Difference in Probability out of 1')"
      ]
     },
     "execution_count": 23,
     "metadata": {},
     "output_type": "execute_result"
    },
    {
     "data": {
      "image/png": "[encoded data removed]",
      "text/plain": [
       "<Figure size 432x288 with 1 Axes>"
      ]
     },
     "metadata": {
      "needs_background": "light"
     },
     "output_type": "display_data"
    }
   ],
   "source": [
    "subtracted = [list_predicted_ebm-x for list_predicted_ebm, x in zip(list_predicted_ebm,x)]\n",
    "fig, axs = plt.subplots()\n",
    "\n",
    "axs.hist(subtracted, bins = 100)\n",
    "axs.set_title('Difference in Output Probability, Logistic vs, EBM')\n",
    "axs.set_ylabel('Frequency')\n",
    "axs.set_xlabel('Difference in Probability out of 1')"
   ]
  },
  {
   "cell_type": "markdown",
   "metadata": {},
   "source": [
    "# Calibration Plot\n",
    "\n"
   ]
  },
  {
   "cell_type": "code",
   "execution_count": 57,
   "metadata": {},
   "outputs": [
    {
     "name": "stdout",
     "output_type": "stream",
     "text": [
      "848\n",
      "0\n",
      "yes\n",
      "1\n",
      "[0, 0, 0, 0, 0, 0, 0, 0, 0, 0, 0, 0, 0, 0, 0, 0, 0, 1, 0, 0, 0, 0, 0, 0, 0, 0, 0, 1, 0, 0, 0, 0, 1, 0, 0, 0, 0, 0, 0, 0, 0, 0, 0, 0, 0, 0, 1, 0, 0, 0, 0, 0, 0, 0, 0, 0, 0, 0, 0, 1, 0, 0, 0, 0, 0, 0, 0, 1, 0, 0, 0, 0, 0, 1, 0, 0, 1, 1, 0, 0, 0, 0, 0, 0, 0, 0, 0, 0, 0, 0, 0, 1, 1, 0, 1, 0, 0, 0, 0, 0, 0, 0, 0, 0, 0, 0, 0, 0, 0, 1, 0, 0, 0, 0, 1, 0, 0, 0, 0, 0, 0, 0, 0, 0, 0, 0, 0, 0, 1, 0, 0, 0, 0, 0, 0, 0, 0, 0, 0, 0, 0, 0, 0, 0, 1, 0, 0, 0, 0, 0, 0, 0, 0, 0, 0, 0, 1, 0, 0, 0, 0, 0, 0, 0, 0, 0, 0, 1, 0, 0, 1, 1, 0, 0, 0, 0, 0, 0, 0, 0, 0, 0, 0, 0, 0, 0, 0, 0, 1, 0, 0, 0, 0, 0, 0, 0, 0, 0, 1, 1, 0, 1, 0, 0, 0, 0, 0, 1, 0, 1, 0, 0, 0, 0, 1, 0, 1, 0, 0, 0, 0, 0, 0, 1, 0, 1, 0, 0, 0, 1, 0, 0, 0, 0, 0, 0, 1, 0, 0, 0, 0, 0, 1, 0, 0, 0, 0, 0, 0, 0, 0, 0, 1, 0, 0, 0, 0, 1, 0, 0, 0, 1, 0, 0, 0, 0, 0, 1, 0, 0, 0, 0, 1, 0, 0, 0, 0, 0, 0, 0, 0, 1, 0, 1, 0, 0, 0, 1, 0, 0, 0, 0, 1, 0, 1, 0, 0, 0, 0, 0, 0, 0, 0, 0, 0, 0, 0, 0, 0, 0, 0, 0, 0, 0, 1, 0, 0, 0, 1, 0, 0, 0, 1, 1, 0, 0, 0, 0, 0, 0, 0, 0, 0, 0, 0, 0, 0, 0, 0, 0, 0, 0, 0, 0, 1, 0, 0, 0, 0, 0, 0, 0, 0, 0, 0, 1, 0, 1, 0, 0, 1, 0, 0, 0, 0, 0, 0, 0, 0, 0, 0, 1, 1, 0, 0, 1, 1, 0, 0, 1, 0, 1, 0, 0, 0, 0, 0, 0, 0, 0, 0, 0, 0, 0, 0, 0, 0, 0, 0, 0, 0, 0, 0, 0, 1, 0, 0, 0, 1, 0, 0, 1, 0, 0, 1, 0, 0, 0, 0, 0, 0, 1, 0, 0, 0, 0, 1, 0, 0, 0, 0, 0, 0, 0, 0, 1, 0, 0, 0, 0, 0, 0, 0, 0, 0, 0, 0, 0, 0, 0, 1, 0, 0, 0, 0, 1, 0, 0, 0, 0, 1, 0, 1, 0, 1, 0, 0, 0, 0, 0, 0, 0, 0, 1, 0, 0, 1, 1, 0, 0, 0, 1, 0, 0, 1, 0, 0, 0, 0, 0, 0, 0, 0, 0, 0, 0, 0, 0, 0, 1, 0, 0, 0, 0, 0, 1, 0, 0, 0, 0, 0, 1, 0, 1, 0, 0, 0, 1, 0, 0, 0, 0, 0, 0, 0, 0, 0, 0, 0, 0, 0, 0, 0, 0, 1, 1, 0, 1, 0, 0, 0, 0, 0, 0, 0, 0, 0, 0, 0, 0, 0, 0, 0, 0, 0, 1, 0, 0, 0, 0, 1, 0, 0, 0, 0, 0, 0, 1, 0, 0, 0, 0, 0, 0, 1, 0, 1, 0, 0, 0, 0, 0, 0, 0, 0, 0, 0, 0, 0, 1, 0, 1, 0, 0, 1, 1, 0, 0, 0, 0, 0, 0, 0, 1, 0, 0, 0, 1, 1, 0, 0, 0, 0, 0, 0, 0, 0, 1, 0, 0, 0, 0, 1, 0, 0, 1, 0, 0, 0, 0, 0, 1, 0, 1, 0, 0, 1, 0, 0, 0, 0, 0, 0, 0, 0, 0, 0, 0, 0, 0, 0, 0, 1, 0, 0, 0, 0, 0, 1, 0, 0, 0, 1, 0, 0, 1, 0, 0, 0, 0, 0, 1, 0, 0, 0, 0, 0, 0, 0, 1, 0, 0, 0, 0, 0, 0, 0, 0, 0, 0, 0, 0, 1, 1, 0, 0, 0, 0, 0, 0, 0, 0, 0, 1, 0, 0, 0, 0, 0, 0, 1, 1, 0, 0, 0, 0, 0, 0, 1, 0, 0, 0, 0, 1, 0, 0, 0, 0, 0, 0, 0, 0, 0, 0, 1, 0, 0, 0, 0, 0, 0, 0, 0, 0, 0, 0, 0, 0, 0, 0, 0, 1, 0, 0, 0, 0, 0, 0, 0, 0, 1, 0, 0, 1, 0, 0, 0, 0, 0, 0, 0, 1, 0, 0, 0, 0, 0, 0, 0, 0, 0, 1, 0, 0, 0, 0, 1, 1, 0, 1, 0, 1, 0, 0, 1, 0, 0, 0, 0, 0, 1, 0, 0, 1, 0, 0, 0, 0, 0, 0, 0, 1, 0, 0, 0, 0, 0, 0, 0, 0, 0, 0, 0, 0, 0, 1, 0, 0, 0, 0, 0, 0, 0, 0, 0, 1, 0, 0, 0, 0, 0, 0, 0, 1, 0, 0, 0, 0]\n"
     ]
    }
   ],
   "source": [
    "#x axis: output probability of each model\n",
    "#y axis: proportion of those samples whole label was (1)\n",
    "print(len(ground_truth_ebm))\n",
    "print((ground_truth_ebm[847]))\n",
    "if ground_truth_ebm[5] == 0:\n",
    "    print(\"yes\")\n",
    "print(ground_truth_ebm[17])\n",
    "print(ground_truth_ebm)"
   ]
  },
  {
   "cell_type": "code",
   "execution_count": 49,
   "metadata": {},
   "outputs": [],
   "source": [
    "index = -1"
   ]
  },
  {
   "cell_type": "code",
   "execution_count": 119,
   "metadata": {},
   "outputs": [
    {
     "name": "stdout",
     "output_type": "stream",
     "text": [
      "[0, 1, 2, 3, 4, 5, 6, 7, 8, 9, 10]\n",
      "{0: [], 1: [], 2: [], 3: [], 4: [], 5: [], 6: [], 7: [], 8: [], 9: [], 10: []}\n",
      "[0.08644075660117712, 0.06886131127466494, 0.060588508441414696, 0.04422764229313061, 0.07576447943370941, 0.07702207834494484, 0.08316658469886032, 0.05556386419993742, 0.07481316844702465, 0.053267189688142536, 0.07933161001759391, 0.0759749014965518, 0.09079423605241112, 0.04913452303515384, 0.08327402283152337, 0.04949504757052977, 0.08059801241768405, 0.0946172306530083, 0.06886507901000972, 0.0502927946491092, 0.08319666398291822, 0.06920202694421661, 0.06511709308745219, 0.08381599976059648, 0.03960346021368641, 0.08941753747506774, 0.0930668451550731, 0.03281494799970349, 0.08282732081698568, 0.031140752061673046, 0.06176457572767016, 0.04521726419332833, 0.031044663232693698, 0.03670633998151871, 0.05590865332029487, 0.09722925562812487, 0.05967068963257962, 0.08648536669920577, 0.05701948196339134, 0.05383259052132429, 0.04143589872727655, 0.09866958649626216, 0.04419985314532509, 0.07959875671864425, 0.09082307640217147, 0.02753496133902126, 0.07791764223936695, 0.09856842045540039, 0.035262047157767144, 0.060489850532005375, 0.09836155451628556, 0.07215002885752039, 0.08593912299065307, 0.08446952935518366, 0.053145179825707864, 0.09447881470305634, 0.031094914398841735, 0.07382152014785695, 0.08756908533343094, 0.08056831664841449, 0.07189257970161705, 0.04267803361796673, 0.057339117854372436, 0.0606949919058708, 0.05057303694521877, 0.045072250278753466, 0.06650845962715997, 0.0861657451493078, 0.061360767464238415, 0.07565383151631165, 0.09526928274907565, 0.039329061735182864, 0.06745285359911696, 0.04976757635321794, 0.08543621770079952, 0.05788330895495557, 0.044060575451348206, 0.03268408347139669, 0.04705736048292935, 0.09973599119412165, 0.042698808773327504, 0.06271290735501872, 0.037165076420143245, 0.08948055328861523, 0.06842566005513934, 0.05185002789334844, 0.07670259887869271, 0.08937295618574265, 0.07691006048933632, 0.07512991738324995, 0.05642753919042369, 0.07427189806111995, 0.0913911503090007, 0.09658245104111389, 0.06753299840017178, 0.07308903777693448, 0.061614504879386744, 0.05108103584361072, 0.04854446060816639, 0.08763161942448823, 0.09247254945082009, 0.09331472706458126, 0.0645515268832628, 0.03826590696535638, 0.07953583154822731, 0.04929464277723582, 0.0597266855678322, 0.055986098358212465, 0.045434803752401894, 0.07871860406234427, 0.07428245591248527, 0.060963292399940604, 0.049323246989971446, 0.049398809012097165, 0.04026523856766017, 0.08208902069692382, 0.08219017412312378, 0.06407685658131171, 0.03684476510703309, 0.06399146569728317, 0.09124717121986317, 0.05650191643010948, 0.06970714317599033, 0.052796368493844066, 0.05070351515386847, 0.09460122242577493, 0.07962109135599084, 0.09398279092134751, 0.06900804789959614, 0.031187353649363807, 0.060331286842442954, 0.04941290774175708, 0.06335938911416554, 0.042173285358608155, 0.09322983182441098, 0.03224674615373225, 0.04180830461411527, 0.08325767709941688, 0.041890209396050815, 0.05685477885573201, 0.05306869366336761, 0.061188296507725115, 0.05178531187824126, 0.04822985488807684, 0.06450473275916756, 0.08813378295718503, 0.05114477074649582, 0.054481969757848525, 0.032470619176841777, 0.05570737567391344, 0.06975590908145302, 0.04840580857232937, 0.09707160745433945, 0.05052880339276951, 0.049043716034446835, 0.08604852743844177, 0.08641576366028435, 0.08890036985303523, 0.07139089577583486, 0.03538662983607188, 0.05312382646287438, 0.0533746583583944, 0.04163419412373945, 0.08837741987355185, 0.09653411841100203, 0.06015446577120013, 0.07402841751515367, 0.06966372652363233, 0.06338622233560848, 0.039002135881226405, 0.06392849768344924, 0.09780690964199029, 0.0735356505378611, 0.05177451140841145, 0.04030006127506714, 0.07662143270367866, 0.05855061298222604, 0.03629614983965194, 0.08172513215661198, 0.05254024658220099, 0.03475167260059971, 0.06682350357430085, 0.07799779743462894, 0.03889636070183548, 0.055436957738431575, 0.04039041075518038, 0.0849803287816112, 0.043691002898904104, 0.05268119435564649, 0.04889630411875903, 0.05308573872084972, 0.07446152076875327, 0.06960104905772393, 0.057015692794281835, 0.07630701416719392, 0.05396749249485727, 0.07027972335725378, 0.09346392718062631, 0.07832529882501835, 0.05408410704921246, 0.09801198945897825, 0.05322421955844188, 0.07867334404086632, 0.045675557722942184, 0.043508182715887724, 0.08742827181002397, 0.0914145961372522, 0.025393137580121815, 0.09189636458673885, 0.07851320539381375, 0.09282575363241549, 0.04614247858769922, 0.06294364180401146, 0.05997272037955484, 0.0648908172824285, 0.04662188630645332, 0.09269943398309347, 0.08883023290040072, 0.041943015963660096, 0.09562097520902249, 0.08911872404841924, 0.04981803030052934, 0.0613444457120059, 0.06704945171428775, 0.07379558932316564, 0.07878995530432406, 0.05995386910071741, 0.04591458381787361, 0.0741493113960815, 0.08786266032359624, 0.06449679456864649, 0.04438592255810538, 0.04058058658632321, 0.09731721475983482, 0.09090369863351379, 0.032912399862851036, 0.054830312026486125, 0.09241007221297079, 0.04618830755284334, 0.07583301149826656, 0.06899136205487884, 0.05573613209120716, 0.05945441991505832, 0.07876557412467954, 0.08471475116246897, 0.051646153511458716, 0.08054581531897897, 0.059556783227517236, 0.07037851789216273, 0.09096746587954005, 0.07600339459407432, 0.049574941831158424, 0.07009661700388435, 0.05204615209318895, 0.03756157947696689, 0.06516308758512551, 0.09533335031947002, 0.07500366407071966, 0.06989893531478152, 0.07922642318611896, 0.07407009467807031, 0.039282958949067436, 0.036204820190659646, 0.09217468715257833, 0.08083237956397973, 0.05413729025838894, 0.06769120134558762, 0.09260715622498784, 0.03872477919953265, 0.07749202496111476, 0.06574595835591379, 0.03951168287282119, 0.04072571260084681, 0.04977780313344917, 0.0644192868590081, 0.09366519921483052, 0.08705682919449644, 0.06565924201508254, 0.06917576649550904, 0.08449776620805567, 0.07059346905772375, 0.07109178552139317, 0.06018435459423196, 0.06676224255666043, 0.0992689771586799, 0.04009162846628183, 0.0442181809050685, 0.09157532983306435, 0.07054342505783749, 0.08202568112955239, 0.06324002041232232, 0.05400653191029407, 0.06793572992191427, 0.04862420443736947, 0.046333511630845425, 0.05129443527644486, 0.046689778582782136, 0.08057915060135029, 0.05263090932052991, 0.08900531908596937, 0.050919090171632264, 0.05931446176644242, 0.07873865303667894, 0.05714566828413765, 0.07430273280846844, 0.07527420743561804, 0.04946750500123753, 0.053646695215086575, 0.07723611042549072, 0.03218885138289421, 0.054899129473483924, 0.06956943085555012, 0.058138574616543974, 0.061650188107956964, 0.04930039939058144, 0.030344236853583926, 0.0349260983902338, 0.061720991132769576, 0.0720791950825707, 0.05785977123005273, 0.04722033541648348, 0.031395753456843783, 0.04241516300357637, 0.07275420737675077, 0.08692040534185311, 0.08668489927404079, 0.09871672444622208, 0.08952623544636523, 0.08190260376368114, 0.0482612462496116, 0.03865793574196038, 0.04270527084459338, 0.03988103285870275, 0.06418493959920084, 0.04956172199192799, 0.06446105995629403, 0.0462473833728028, 0.03851469014744658, 0.0394485495930755, 0.03747166771568964]\n",
      "[0, 0, 0, 0, 0, 0, 0, 0, 0, 0, 0, 0, 0, 0, 0, 0, 0, 1, 0, 0, 0, 0, 0, 0, 0, 0, 0, 1, 0, 0, 0, 0, 1, 0, 0, 0, 0, 0, 0, 0, 0, 0, 0, 0, 0, 0, 1, 0, 0, 0, 0, 0, 0, 0, 0, 0, 0, 0, 0, 1, 0, 0, 0, 0, 0, 0, 0, 1, 0, 0, 0, 0, 0, 1, 0, 0, 1, 1, 0, 0, 0, 0, 0, 0, 0, 0, 0, 0, 0, 0, 0, 1, 1, 0, 1, 0, 0, 0, 0, 0, 0, 0, 0, 0, 0, 0, 0, 0, 0, 1, 0, 0, 0, 0, 1, 0, 0, 0, 0, 0, 0, 0, 0, 0, 0, 0, 0, 0, 1, 0, 0, 0, 0, 0, 0, 0, 0, 0, 0, 0, 0, 0, 0, 0, 1, 0, 0, 0, 0, 0, 0, 0, 0, 0, 0, 0, 1, 0, 0, 0, 0, 0, 0, 0, 0, 0, 0, 1, 0, 0, 1, 1, 0, 0, 0, 0, 0, 0, 0, 0, 0, 0, 0, 0, 0, 0, 0, 0, 1, 0, 0, 0, 0, 0, 0, 0, 0, 0, 1, 1, 0, 1, 0, 0, 0, 0, 0, 1, 0, 1, 0, 0, 0, 0, 1, 0, 1, 0, 0, 0, 0, 0, 0, 1, 0, 1, 0, 0, 0, 1, 0, 0, 0, 0, 0, 0, 1, 0, 0, 0, 0, 0, 1, 0, 0, 0, 0, 0, 0, 0, 0, 0, 1, 0, 0, 0, 0, 1, 0, 0, 0, 1, 0, 0, 0, 0, 0, 1, 0, 0, 0, 0, 1, 0, 0, 0, 0, 0, 0, 0, 0, 1, 0, 1, 0, 0, 0, 1, 0, 0, 0, 0, 1, 0, 1, 0, 0, 0, 0, 0, 0, 0, 0, 0, 0, 0, 0, 0, 0, 0, 0, 0, 0, 0, 1, 0, 0, 0, 1, 0, 0, 0, 1, 1, 0, 0, 0, 0, 0, 0, 0, 0, 0, 0, 0, 0, 0, 0, 0, 0]\n"
     ]
    }
   ],
   "source": [
    "#consider two dictionaries or dictionary of dictionaries? I need to check the score (done) as well as its ground truth\n",
    "\n",
    "#the bin size percent where 10 is 10 percent\n",
    "length = len(ground_truth_ebm)-1\n",
    "bin_size = 10\n",
    "bin_list = []\n",
    "for i in range(0,11,1):\n",
    "  bin_list.append(i)\n",
    "print(bin_list)\n",
    "d = {} \n",
    "for i in bin_list: \n",
    "    d[i] = []  \n",
    "val = {} \n",
    "for i in bin_list: \n",
    "    val[i] = []  \n",
    "print(val)\n",
    "for i in bin_list:\n",
    "    index = 0\n",
    "    for y in list_predicted_ebm:\n",
    "        if y<bin_list[i]/10 and y>bin_list[i-1]/10:\n",
    "              #  print(y, i/10)\n",
    "            val[(i)].append(y)\n",
    "            d[(i)].append(ground_truth_ebm[index])\n",
    "               # d[(i)].append(1)\n",
    "           # print(ground_truth_ebm[index],\"index name right\", index)\n",
    "            if index < length:\n",
    "                index +=1\n",
    "             #   print(index)\n",
    "print(val[1])\n",
    "print(d[1])        \n",
    "            #i need to retrieve the sample indeces that are true for each output probability bin, for each model seperately,\n",
    "#and add those to a dictionary with the key being the sample index name"
   ]
  },
  {
   "cell_type": "code",
   "execution_count": 116,
   "metadata": {},
   "outputs": [
    {
     "name": "stdout",
     "output_type": "stream",
     "text": [
      "{0: 0}\n",
      "{1: 47}\n",
      "{2: 43}\n",
      "{3: 15}\n",
      "{4: 3}\n",
      "{5: 1}\n",
      "{6: 0}\n",
      "{7: 0}\n",
      "{8: 0}\n",
      "{9: 0}\n",
      "{10: 0}\n",
      "{0: 0, 1: 47, 2: 43, 3: 15, 4: 3, 5: 1, 6: 0, 7: 0, 8: 0, 9: 0, 10: 0}\n"
     ]
    }
   ],
   "source": [
    "new_dict = dict()\n",
    "for k, v in d.items():\n",
    "    print(\"{{{0}: {1}}}\".format(k, sum(v)))\n",
    "dict2 = {}\n",
    "for key in d:\n",
    "    dict2[key] = sum(d[key])\n",
    "print(dict2)"
   ]
  },
  {
   "cell_type": "code",
   "execution_count": null,
   "metadata": {},
   "outputs": [],
   "source": [
    "\"\"\"Logistic Numbers for comparison\n",
    "{0: 0}\n",
    "{1: 48.722647679534234}\n",
    "{2: 45.762445767160735}\n",
    "{3: 19.958191131768285}\n",
    "{4: 9.445850571644119}\n",
    "{5: 2.064829878604269}\n",
    "{6: 0.1935699882265126}\n",
    "{7: 0.1935699882265126}\n",
    "{8: 0}\n",
    "{9: 0.1935699882265126}\n",
    "\"\"\""
   ]
  },
  {
   "cell_type": "code",
   "execution_count": 117,
   "metadata": {},
   "outputs": [
    {
     "data": {
      "text/plain": [
       "{0: 0, 1: 340, 2: 303, 3: 132, 4: 43, 5: 19, 6: 6, 7: 1, 8: 0, 9: 3, 10: 1}"
      ]
     },
     "execution_count": 117,
     "metadata": {},
     "output_type": "execute_result"
    }
   ],
   "source": [
    "{k:sum(1 for x in v if x != None) for k,v in d.items()}"
   ]
  },
  {
   "cell_type": "markdown",
   "metadata": {},
   "source": [
    "# Logistic Calibration Plot"
   ]
  },
  {
   "cell_type": "code",
   "execution_count": 123,
   "metadata": {},
   "outputs": [],
   "source": [
    "#x axis: output probability of each model\n",
    "#y axis: proportion of those samples whole label was (1)\n",
    "#print(len(logistic_predicted))\n",
    "#print((logistic_predicted[847]))\n",
    "#if logistic_predicted[5] == 0:\n",
    "#    print(\"yes\")\n",
    "#print(logistic_predicted[17])\n",
    "#print(logistic_predicted)"
   ]
  },
  {
   "cell_type": "code",
   "execution_count": 124,
   "metadata": {},
   "outputs": [
    {
     "name": "stdout",
     "output_type": "stream",
     "text": [
      "[0, 1, 2, 3, 4, 5, 6, 7, 8, 9, 10]\n",
      "{0: [], 1: [], 2: [], 3: [], 4: [], 5: [], 6: [], 7: [], 8: [], 9: [], 10: []}\n",
      "[0.09916454919691066, 0.09440543902960194, 0.04914288902011408, 0.05010262137208851, 0.0914218062853557, 0.042602612751663486, 0.07694083169848813, 0.08184954391476465, 0.06645468117583357, 0.07183149511017636, 0.0949394324337713, 0.08098068502570878, 0.056454158991302836, 0.06687784346620161, 0.060940538176038124, 0.06412561737201157, 0.07533502410334837, 0.07357346657969083, 0.05934441219395126, 0.09240137411860506, 0.0697460721277867, 0.0493568404106986, 0.06797851892005587, 0.07600539051255155, 0.0693345657019571, 0.09500556667949077, 0.040958139834909195, 0.0966786406583737, 0.038121644758658986, 0.0923190883307006, 0.044072680237940476, 0.0627708645237131, 0.03508772452044042, 0.05405169935716301, 0.0988996024729262, 0.0739943952294627, 0.05837392656556048, 0.06367273055494134, 0.05502327853874732, 0.07364368158393553, 0.05339983091070431, 0.07799489607929658, 0.07795417724490547, 0.041345536725520736, 0.08009201988707221, 0.08478570078481909, 0.0365640818629015, 0.06665930664277832, 0.04717757177186663, 0.09659954737765866, 0.060434133973007814, 0.05450622779697135, 0.038378093893372454, 0.091550063206541, 0.07284579207483538, 0.06759217446987043, 0.05025541343315586, 0.06274907128546901, 0.08698853722950084, 0.08692451044971991, 0.06547224248591914, 0.04517487516569441, 0.08277194056380947, 0.08224640636180103, 0.0980219387988494, 0.08079884889303605, 0.05243156068302251, 0.04423279650719183, 0.09565388229409603, 0.04688135310312916, 0.09125655160965938, 0.07519202748679854, 0.07076967143728895, 0.0369265995204219, 0.044557747100366224, 0.08810302572442805, 0.04128877656053862, 0.0724641285105267, 0.030723320530118895, 0.08142988146434067, 0.08112852643947616, 0.07347619562294848, 0.0691272440156848, 0.08803337402278136, 0.04839950607566215, 0.07012842405409442, 0.09456422426613943, 0.04253761212424224, 0.06915062877267898, 0.08472582561024737, 0.06788501708261106, 0.09062820127348109, 0.0517464154546587, 0.05670340139549088, 0.058261890737549206, 0.09528180902379553, 0.05459048564059768, 0.04758855395537898, 0.05753855261273928, 0.05446966956644188, 0.06288180937010968, 0.0893088156978082, 0.05991637058882237, 0.05061805258434032, 0.04417961447337554, 0.06787236218247593, 0.08882210223318746, 0.07463776484183085, 0.07035561408056079, 0.029131604000587657, 0.09295141041427764, 0.07871565919877122, 0.0802784708207008, 0.08279450432234739, 0.0613000936982444, 0.03647157082300737, 0.07595819369944494, 0.07163517352937677, 0.07868675304598008, 0.07506102955923814, 0.03984751318804298, 0.042006529100764724, 0.04837294124645417, 0.06634025284281349, 0.05088363349798599, 0.04451265542502319, 0.033549962032865324, 0.07670103163355632, 0.07655573002945097, 0.037529312268770335, 0.05696701064149676, 0.09562933585639877, 0.04602562687813747, 0.06433852868263584, 0.05349498284047932, 0.04311387071851062, 0.07122213701073724, 0.09475853491682873, 0.05090005265213698, 0.07119720468898634, 0.0736044680761906, 0.03622611446145788, 0.044046158300464426, 0.07446207241965384, 0.04998525860097796, 0.095774516629319, 0.040699364375748164, 0.04331173178288371, 0.09306996644555603, 0.06782200616642567, 0.03703999618919895, 0.07029926955267292, 0.05026809214754972, 0.07072251987686887, 0.056640370051176274, 0.06877977283795919, 0.05023282983138036, 0.07031781757200921, 0.09302954324766102, 0.05522249454986025, 0.06026010886077362, 0.05600838352405718, 0.06379893040937165, 0.05452090561288051, 0.07503146960424976, 0.07584678664404729, 0.05820230807614342, 0.09263211791709322, 0.08609027714281996, 0.08649720441724333, 0.04085199737848265, 0.048879685649401206, 0.053810282693587126, 0.07547868410119792, 0.08598454079350171, 0.05855986871088588, 0.07002906611353951, 0.05274488529041626, 0.06690278318401832, 0.09628870070749075, 0.0486537446103428, 0.0560820712646788, 0.05786831642233788, 0.08433956433807621, 0.08208165132717433, 0.08044183680769618, 0.06984771202156595, 0.07946230327751409, 0.04852207554571104, 0.06778774790608062, 0.09112814484866515, 0.09026956710617218, 0.09461014474468037, 0.056684161807587084, 0.07594123706432065, 0.07348387831607435, 0.058079227173451035, 0.08724270038126353, 0.08768207936975203, 0.09107098512361703, 0.03847323137308577, 0.09327949247463829, 0.06004082871538184, 0.07940011828058713, 0.05033946712492969, 0.04993726140725071, 0.06055856545624048, 0.052609218911116744, 0.06875003557602366, 0.07431559541134256, 0.08327565572192333, 0.08796988613006783, 0.0638882863271278, 0.07730596827891892, 0.04208561948988174, 0.09270136139429286, 0.07765654513233597, 0.06405697885637644, 0.04639759902380157, 0.03990117341522307, 0.09247447604376335, 0.07820574696078895, 0.05959542692376758, 0.04284937247447493, 0.05930903056994231, 0.07745614541443278, 0.058457907897349434, 0.084385722806027, 0.06836354424889576, 0.08623415255762142, 0.05120846601369445, 0.0649873316248543, 0.0738733098517033, 0.09551470093295687, 0.038663205045220146, 0.07974924302602376, 0.07984524130091823, 0.0966593416605198, 0.048669524160987486, 0.08683768871971617, 0.06119508833912755, 0.049243657404256735, 0.09669274096073555, 0.09005672651648892, 0.09899982032117409, 0.0805749837017295, 0.0723126856266057, 0.053306348938289165, 0.06091407548609937, 0.09878806924279286, 0.06888916069962527, 0.08342324352252155, 0.07031667767736394, 0.08942239361293945, 0.08036710578485946, 0.07321564333055246, 0.0634390643834017, 0.08241824494117309, 0.04198054926923158, 0.04737309636612112, 0.09945005851233904, 0.06829527215567689, 0.09892474829827058, 0.04922748517603268, 0.06145432641564035, 0.05059256345816654, 0.06116528808486709, 0.07356090455363984, 0.08761126188115928, 0.09765166407302013, 0.036961691342272625, 0.0952466712565114, 0.048598016137700525, 0.04074574603337169, 0.08957541092925993, 0.09327353921295345, 0.08275470299942009, 0.08221986415460415, 0.051531008016690714, 0.09668450804111518, 0.04004186485002282, 0.06437751466309287, 0.05814515398935255, 0.07102835680005144, 0.06435920157402256, 0.0834876431664864, 0.04959649793646956, 0.05537654085391061, 0.09630199445809587, 0.09005841775701869, 0.06392724168844031, 0.06124127944323097, 0.06577467180699295, 0.03826114593988323, 0.06722421136419865, 0.08597567225245079, 0.07649924207404993, 0.0716201568931219, 0.05534491171647365, 0.03498263425302101, 0.03729877649177103, 0.0838808720668768, 0.08975095839388579, 0.07953322531248048, 0.06365530472400828, 0.04556120410294971, 0.044810259748933545, 0.047107944241351854, 0.05194456530573881, 0.07180180959680588, 0.09325836420734636, 0.07008623935475047, 0.09894288672145016, 0.05012888900139617, 0.09999403098970462, 0.03812906218787074, 0.06087236599047549, 0.058821236385234184, 0.09605016230385353, 0.0745875942115546, 0.08925140993000606, 0.08953547130843172, 0.04460384944383129, 0.039785690545027584, 0.04183978416227458, 0.049340823043621404]\n",
      "[0.09916454919691066, 0.09440543902960194, 0.18250384696718094, 0.1086290674482649, 0.04914288902011408, 0.05010262137208851, 0.18426644699250935, 0.13373730141189757, 0.0914218062853557, 0.23458285001007254, 0.042602612751663486, 0.12633152582721896, 0.10699275385232315, 0.1539896637389135, 0.4069565047001537, 0.3369319402358419, 0.07694083169848813, 0.08184954391476465, 0.06645468117583357, 0.07183149511017636, 0.22710932540366083, 0.26624662053457326, 0.0949394324337713, 0.08098068502570878, 0.24086175256798814, 0.12031637072784698, 0.3653334268863671, 0.19319507652998855, 0.227152959756441, 0.1592854743197575, 0.14086347813199246, 0.12891529172219365, 0.3320173896642646, 0.056454158991302836, 0.06687784346620161, 0.060940538176038124, 0.17403283427531957, 0.1465335985137764, 0.10448487184689637, 0.21480182156836503, 0.06412561737201157, 0.2417285864122328, 0.378642514628569, 0.23487130012436377, 0.12710667141380116, 0.12886516447054958, 0.19111420815867422, 0.07533502410334837, 0.07357346657969083, 0.10870660423252375, 0.05934441219395126, 0.09240137411860506, 0.1188471304407778, 0.11422133739025582, 0.11607726801270232, 0.16275159289472874, 0.20367776368590085, 0.0697460721277867, 0.3066297259655304, 0.3158359498269195, 0.16206746620936577, 0.0493568404106986, 0.06797851892005587, 0.07600539051255155, 0.24186740909369017, 0.20652588939130265, 0.22607544378535405, 0.15017485570101427, 0.0693345657019571, 0.09500556667949077, 0.10033469065444348, 0.040958139834909195, 0.256873193222952, 0.23363756773379452, 0.2202723948196358, 0.0966786406583737, 0.1912595694127701, 0.42751584817805394, 0.17787520645994256, 0.038121644758658986, 0.13117026119635827, 0.17627897973312, 0.19596979737363027, 0.0923190883307006, 0.044072680237940476, 0.0627708645237131, 0.03508772452044042, 0.05405169935716301, 0.0988996024729262, 0.13198274491719839, 0.0739943952294627, 0.2685993380365119, 0.20304196112433376, 0.1226437688051962, 0.11568730233415933, 0.13385127458538235, 0.05837392656556048, 0.06367273055494134, 0.05502327853874732, 0.2283813223395864, 0.3177460337562943, 0.314842097637826, 0.07364368158393553, 0.19899135458396494, 0.16522727708057885, 0.05339983091070431, 0.07799489607929658, 0.07795417724490547, 0.041345536725520736, 0.10516443452360577, 0.08009201988707221, 0.08478570078481909, 0.0365640818629015, 0.2675012178141086, 0.210005236678903, 0.06665930664277832, 0.20772756582655916, 0.13776502006666175, 0.19836795409893715, 0.24217448341451744, 0.5318873631199074, 0.04717757177186663, 0.09659954737765866, 0.1885739189545083, 0.060434133973007814, 0.27164201119658177, 0.18864433852270082, 0.05450622779697135, 0.15651169469499174, 0.10815505175946243, 0.038378093893372454, 0.091550063206541, 0.18298342976990972, 0.07284579207483538, 0.15277529810124346, 0.12101431342151767, 0.10654807109694471, 0.17697734907633725, 0.12474886787520605, 0.11636420640726376, 0.06759217446987043, 0.1846455925195665, 0.3011432810816088, 0.14030819102467712, 0.12531857232965654, 0.22143096829955664, 0.05025541343315586, 0.1981673371756138, 0.3191256072393845, 0.06274907128546901, 0.2009663264101982, 0.08698853722950084, 0.08692451044971991, 0.06547224248591914, 0.35622860794662176, 0.13147577608318434, 0.21571192698103425, 0.11687935451335377, 0.16073387620286467, 0.04517487516569441, 0.11347925330826487, 0.08277194056380947, 0.34508203374401714, 0.08224640636180103, 0.0980219387988494, 0.08079884889303605, 0.05243156068302251, 0.1495509923055109, 0.127343151186589, 0.22867531151070603, 0.24076586315472182, 0.20109282075980625, 0.04423279650719183, 0.09565388229409603, 0.04688135310312916, 0.46127489509846914, 0.12184888553019196, 0.39090242352528265, 0.1559259313424672, 0.12884027632703307, 0.18145209043860835, 0.09125655160965938, 0.21696216044562183, 0.07519202748679854, 0.07076967143728895, 0.21056758839729817, 0.0369265995204219, 0.044557747100366224, 0.08810302572442805, 0.04128877656053862, 0.0724641285105267, 0.030723320530118895, 0.100567640711873, 0.08142988146434067, 0.08112852643947616, 0.12546644436451956, 0.14346516230728343, 0.32815040038108845, 0.2088938781692832, 0.2436773866105794, 0.07347619562294848, 0.33704552610042815, 0.0691272440156848, 0.08803337402278136, 0.18210598052059346, 0.04839950607566215, 0.07012842405409442, 0.09456422426613943, 0.25701188382794526, 0.21197987727019416, 0.10613500325674889, 0.04253761212424224, 0.11087893348119725, 0.12195848683265138, 0.8463327988619345, 0.06915062877267898, 0.08472582561024737, 0.13328807264489445, 0.06788501708261106, 0.16481679127278065, 0.15150719523298242, 0.17245469007522782, 0.2878365242758844, 0.15578440431186363, 0.1527871610684493, 0.15119430897159647, 0.21050325460789712, 0.09062820127348109, 0.1981258366305952, 0.46441397023353914, 0.0517464154546587, 0.19480965558737742, 0.05670340139549088, 0.10695192569616618, 0.11716920601173515, 0.13473828164122215, 0.12462717041553434, 0.11064657170478183, 0.32577504953192105, 0.10550537417380175, 0.058261890737549206, 0.1848553586572808, 0.14413357156064863, 0.18184313068618427, 0.10122517327697048, 0.09528180902379553, 0.28875103471071123, 0.05459048564059768, 0.04758855395537898, 0.20132481309076924, 0.05753855261273928, 0.05446966956644188, 0.6649929896625711, 0.26643565324728435, 0.06288180937010968, 0.19264166703667346, 0.0893088156978082, 0.1340896936686123, 0.05991637058882237, 0.10223942478059793, 0.47103992549543444, 0.21662901298230852, 0.05061805258434032, 0.04417961447337554, 0.1211917367326447, 0.27610102485579624, 0.06787236218247593, 0.442108957093495, 0.11089907243134497, 0.1934797647227947, 0.48362114354901, 0.08882210223318746, 0.32091594257172745, 0.07463776484183085, 0.07035561408056079, 0.029131604000587657, 0.09295141041427764, 0.07871565919877122, 0.20826169003914452, 0.0802784708207008, 0.14241341734206717, 0.08279450432234739, 0.0613000936982444, 0.26964363013943, 0.1664050555103959, 0.12129204727769775, 0.03647157082300737, 0.2983750707722989, 0.21401200656327327, 0.07595819369944494, 0.24207232736648113, 0.14524248767388692, 0.07163517352937677, 0.20782853909972182, 0.07868675304598008, 0.14162676360980642, 0.13849733123707167, 0.07506102955923814, 0.03984751318804298, 0.042006529100764724, 0.04837294124645417, 0.1368177911763995, 0.13036283459920228, 0.06634025284281349, 0.15971075767089876, 0.05088363349798599, 0.3009880507468801, 0.1200139690904151, 0.04451265542502319, 0.033549962032865324, 0.07670103163355632, 0.07655573002945097, 0.037529312268770335, 0.16577821657346078, 0.23925396136908195, 0.05696701064149676, 0.3639210305415061, 0.22262508698200023, 0.09562933585639877, 0.04602562687813747, 0.06433852868263584, 0.05349498284047932, 0.34932578572970613, 0.39029027630085145, 0.04311387071851062, 0.12870385453429511]\n"
     ]
    }
   ],
   "source": [
    "#consider two dictionaries or dictionary of dictionaries? I need to check the score (done) as well as its ground truth\n",
    "\n",
    "#the bin size percent where 10 is 10 percent\n",
    "length = len(logistic_predicted)-1\n",
    "bin_size = 10\n",
    "bin_list = []\n",
    "for i in range(0,11,1):\n",
    "  bin_list.append(i)\n",
    "print(bin_list)\n",
    "d = {} \n",
    "for i in bin_list: \n",
    "    d[i] = []  \n",
    "val = {} \n",
    "for i in bin_list: \n",
    "    val[i] = []  \n",
    "print(val)\n",
    "for i in bin_list:\n",
    "    index = 0\n",
    "    for y in logistic_predicted:\n",
    "        if y<bin_list[i]/10 and y>bin_list[i-1]/10:\n",
    "              #  print(y, i/10)\n",
    "            val[(i)].append(y)\n",
    "            d[(i)].append(logistic_predicted[index])\n",
    "               # d[(i)].append(1)\n",
    "           # print(ground_truth_ebm[index],\"index name right\", index)\n",
    "            if index < length:\n",
    "                index +=1\n",
    "             #   print(index)\n",
    "print(val[1])\n",
    "print(d[1])        \n",
    "            #i need to retrieve the sample indeces that are true for each output probability bin, for each model seperately,\n",
    "#and add those to a dictionary with the key being the sample index name"
   ]
  },
  {
   "cell_type": "code",
   "execution_count": 125,
   "metadata": {},
   "outputs": [
    {
     "name": "stdout",
     "output_type": "stream",
     "text": [
      "{0: 0}\n",
      "{1: 48.722647679534234}\n",
      "{2: 45.762445767160735}\n",
      "{3: 19.958191131768285}\n",
      "{4: 9.445850571644119}\n",
      "{5: 2.064829878604269}\n",
      "{6: 0.1935699882265126}\n",
      "{7: 0.1935699882265126}\n",
      "{8: 0}\n",
      "{9: 0.1935699882265126}\n",
      "{10: 0}\n",
      "{0: 0, 1: 48.722647679534234, 2: 45.762445767160735, 3: 19.958191131768285, 4: 9.445850571644119, 5: 2.064829878604269, 6: 0.1935699882265126, 7: 0.1935699882265126, 8: 0, 9: 0.1935699882265126, 10: 0}\n"
     ]
    }
   ],
   "source": [
    "new_dict = dict()\n",
    "for k, v in d.items():\n",
    "    print(\"{{{0}: {1}}}\".format(k, sum(v)))\n",
    "dict2 = {}\n",
    "for key in d:\n",
    "    dict2[key] = sum(d[key])\n",
    "print(dict2)"
   ]
  },
  {
   "cell_type": "code",
   "execution_count": 126,
   "metadata": {},
   "outputs": [
    {
     "data": {
      "text/plain": [
       "{0: 0, 1: 326, 2: 305, 3: 135, 4: 61, 5: 15, 6: 2, 7: 2, 8: 0, 9: 2, 10: 0}"
      ]
     },
     "execution_count": 126,
     "metadata": {},
     "output_type": "execute_result"
    }
   ],
   "source": [
    "{k:sum(1 for x in v if x != None) for k,v in d.items()}"
   ]
  },
  {
   "cell_type": "code",
   "execution_count": 118,
   "metadata": {},
   "outputs": [],
   "source": [
    "#in each key of dictionary find the ratio of 1/total samples in that key\n",
    "#create a new dictionary with the same keys and the new associated values will be that ratio"
   ]
  },
  {
   "cell_type": "code",
   "execution_count": null,
   "metadata": {},
   "outputs": [],
   "source": []
  },
  {
   "cell_type": "code",
   "execution_count": 26,
   "metadata": {},
   "outputs": [],
   "source": [
    "#Checking to see if the examples where EBM and Logistic Disagree the most \n",
    "#ie: by more than 10% probability, how often was each model closer to the truth in the dataset"
   ]
  },
  {
   "cell_type": "code",
   "execution_count": 27,
   "metadata": {},
   "outputs": [],
   "source": [
    "#If you only want to see the disagreement greater than one particular value\n",
    "#and the corresponding samples set the parameter here and run the method model_disagreement below.\n",
    "disagreement = 0.05"
   ]
  },
  {
   "cell_type": "code",
   "execution_count": 28,
   "metadata": {
    "scrolled": true
   },
   "outputs": [],
   "source": [
    "def model_disagreement(disagreement):\n",
    "    ebm_wins = 0\n",
    "    logistic_wins = 0\n",
    "    y_test_index = y_test.tolist()\n",
    "    for i in range(len(subtracted)):\n",
    "        if subtracted[i] > disagreement:\n",
    "        #    print(\"patient #\", i, \"disagreement of\", \n",
    "            round(subtracted[i]*100,2),'%', 'EBM:', round(list_predicted_ebm[i]*100,2), \n",
    "            'logistic', round((x[i]*100),2), 'ground truth', y_test_index[i]\n",
    "            if abs(list_predicted_ebm[i]-y_test_index[i]) < abs(x[i]-y_test_index[i]):\n",
    "              #  print('EBM was closer above')\n",
    "                ebm_wins +=1\n",
    "            else:\n",
    "                logistic_wins +=1\n",
    "    return(logistic_wins/(ebm_wins+logistic_wins))\n",
    "def model_disagreement_sample_size(disagreement):\n",
    "    ebm_wins = 0\n",
    "    logistic_wins = 0\n",
    "    y_test_index = y_test.tolist()\n",
    "    for i in range(len(subtracted)):\n",
    "        if subtracted[i] > disagreement:\n",
    "        #    print(\"patient #\", i, \"disagreement of\", \n",
    "            round(subtracted[i]*100,2),'%', 'EBM:', round(list_predicted_ebm[i]*100,2), \n",
    "            'logistic', round((x[i]*100),2), 'ground truth', y_test_index[i]\n",
    "            if abs(list_predicted_ebm[i]-y_test_index[i]) < abs(x[i]-y_test_index[i]):\n",
    "              #  print('EBM was closer above')\n",
    "                ebm_wins +=1\n",
    "            else:\n",
    "                logistic_wins +=1\n",
    "    return(ebm_wins+logistic_wins)\n",
    "#print(\"Which model was closer to the ground truth in the extreme cases?\")\n",
    "#print(\"observe which number is bigger by how much\")\n",
    "#print(ebm_wins, 'ebm wins: when it was closer to the truth')\n",
    "#print(logistic_wins, 'logistic wins: when it was closer to the truth')"
   ]
  },
  {
   "cell_type": "markdown",
   "metadata": {},
   "source": [
    "# which model was closer to the ground truth?"
   ]
  },
  {
   "cell_type": "code",
   "execution_count": 29,
   "metadata": {},
   "outputs": [
    {
     "name": "stdout",
     "output_type": "stream",
     "text": [
      "[348, 244, 170, 125, 97, 74, 60, 55, 43, 36, 28, 25, 22, 20, 17, 14, 11, 9, 9, 7, 7, 6, 6, 5, 4, 4, 4, 3, 3, 3, 3, 2, 2, 2, 2, 2, 2, 2, 1, 1, 1, 1, 1, 1, 1, 1, 1, 1, 1, 1, 1, 1, 1, 1, 1, 1, 1, 1]\n"
     ]
    }
   ],
   "source": [
    "#model_disagreement(disagreement)\n",
    "#This print the per patient disagreement and ground truth for transparency\n",
    "model_disagreement_data = []\n",
    "model_disagreement_index = []\n",
    "sample_size = []\n",
    "for i in range(0,100,1):\n",
    "    i = i/100\n",
    "    if len(model_disagreement_index) == len(model_disagreement_data):\n",
    "        try:\n",
    "        #    print(i, model_disagreement(i))\n",
    "            model_disagreement_data.append(model_disagreement(i))\n",
    "            model_disagreement_index.append(i)\n",
    "            sample_size.append(model_disagreement_sample_size(i))\n",
    "        except:\n",
    "            pass\n",
    "print(sample_size)"
   ]
  },
  {
   "cell_type": "code",
   "execution_count": 30,
   "metadata": {},
   "outputs": [
    {
     "data": {
      "image/png": "[encoded data removed]",
      "text/plain": [
       "<Figure size 432x288 with 1 Axes>"
      ]
     },
     "metadata": {
      "needs_background": "light"
     },
     "output_type": "display_data"
    }
   ],
   "source": [
    "plt.plot(model_disagreement_index, model_disagreement_data) \n",
    "plt.xlabel('Difference in outcome probability between the models') \n",
    "plt.ylabel('Percentage of samples where Logistic \\n was closer to the ground truth') \n",
    "plt.title('GA2M/EBM versus Logistic Regression') \n",
    "#plt.plot(model_disagreement_index, sample_size)\n",
    "plt.show() "
   ]
  },
  {
   "cell_type": "code",
   "execution_count": 31,
   "metadata": {},
   "outputs": [
    {
     "data": {
      "text/plain": [
       "Text(0.5, 1.0, 'GA2M/EBM versus Logistic Regression')"
      ]
     },
     "execution_count": 31,
     "metadata": {},
     "output_type": "execute_result"
    },
    {
     "data": {
      "image/png": "[encoded data removed]",
      "text/plain": [
       "<Figure size 432x288 with 1 Axes>"
      ]
     },
     "metadata": {
      "needs_background": "light"
     },
     "output_type": "display_data"
    }
   ],
   "source": [
    "#If you think about this graph and the previous graph together, \n",
    "#the logistic regression seems to have consistently better performance than the GA2M/EBM model\n",
    "#but only slightly better performane when the two models disagree by 12-17%, which happens to be\n",
    "#when the number of samples greatly diminishes. But,as the threshold of disagreement increases logistic\n",
    "#has even greater performance! The casualy of GA2M/EBM are some extremely poorly predicted members of the sample\n",
    "#population.\n",
    "plt.plot(model_disagreement_index, sample_size)\n",
    "plt.xlabel('Difference in outcome probability between the models') \n",
    "plt.ylabel('Sample size greater than \\n the difference in probability') \n",
    "plt.title('GA2M/EBM versus Logistic Regression') "
   ]
  },
  {
   "cell_type": "markdown",
   "metadata": {},
   "source": [
    "# The rest below is a work in progress"
   ]
  },
  {
   "cell_type": "code",
   "execution_count": 32,
   "metadata": {},
   "outputs": [],
   "source": [
    "#For demonstration purposes this is the \"interpretability\" that the open source for GA2M/EBM\n",
    "#gives. The first graph are the Ga2M/EBM coefficents for a particular sample and the second graph\n",
    "#are the logistic coefficents for the same sample."
   ]
  },
  {
   "cell_type": "code",
   "execution_count": 33,
   "metadata": {},
   "outputs": [
    {
     "data": {
      "text/html": [
       "<!-- http://127.0.0.1:7523/4805311904/ -->\n",
       "<iframe src=\"http://127.0.0.1:7523/4805311904/\" width=100% height=800 frameBorder=\"0\"></iframe>"
      ]
     },
     "metadata": {},
     "output_type": "display_data"
    }
   ],
   "source": [
    "#The format z-1:z shows you datapoint z\n",
    "ebm_local = ebm.explain_local(X_test[13:14], y_test[13:14], name='EBM')\n",
    "show(ebm_local)"
   ]
  },
  {
   "cell_type": "code",
   "execution_count": 34,
   "metadata": {},
   "outputs": [
    {
     "data": {
      "text/html": [
       "<!-- http://127.0.0.1:7523/4525990632/ -->\n",
       "<iframe src=\"http://127.0.0.1:7523/4525990632/\" width=100% height=800 frameBorder=\"0\"></iframe>"
      ]
     },
     "metadata": {},
     "output_type": "display_data"
    }
   ],
   "source": [
    "#The format z-1:z shows you datapoint z\n",
    "#Observing the Per Explanatory Variable graphs for each of those key patients \n",
    "lr_local =lr.explain_local(X_test[13:14], y_test[13:14], name='lr')\n",
    "show(lr_local)"
   ]
  },
  {
   "cell_type": "code",
   "execution_count": 35,
   "metadata": {},
   "outputs": [
    {
     "data": {
      "image/png": "[encoded data removed]",
      "text/plain": [
       "<Figure size 432x288 with 1 Axes>"
      ]
     },
     "metadata": {
      "needs_background": "light"
     },
     "output_type": "display_data"
    }
   ],
   "source": [
    "#plotting the absolute value\n",
    "subtracted_absolute = [abs(100*(list_predicted_ebm-x)) for list_predicted_ebm, x in zip(list_predicted_ebm,x)]\n",
    "fig, axn = plt.subplots()\n",
    "axn.hist(subtracted_absolute, bins = 60)\n",
    "axn.set_title('Difference in Output Probability, Logistic vs, EBM')\n",
    "axn.set_ylabel('Frequency')\n",
    "axn.set_xlabel('Difference in Probability out of 1')\n",
    "#set_size(10,1)\n",
    "axn.tick_params(direction='out', length=6, width=2, colors='r',\n",
    "               grid_color='r', grid_alpha=2)"
   ]
  },
  {
   "cell_type": "markdown",
   "metadata": {},
   "source": [
    "# These are the patients/samples with the greatest percentage difference in prediction"
   ]
  },
  {
   "cell_type": "code",
   "execution_count": 36,
   "metadata": {},
   "outputs": [
    {
     "data": {
      "text/plain": [
       "Text(0.5, 0, 'Difference in Probability out of 1')"
      ]
     },
     "execution_count": 36,
     "metadata": {},
     "output_type": "execute_result"
    },
    {
     "data": {
      "image/png": "[encoded data removed]",
      "text/plain": [
       "<Figure size 432x288 with 1 Axes>"
      ]
     },
     "metadata": {
      "needs_background": "light"
     },
     "output_type": "display_data"
    }
   ],
   "source": [
    "#plotting the absolute value\n",
    "subtracted_absolute = [abs(100*(list_predicted_ebm-x)) if abs(100*(list_predicted_ebm-x))>10 else 0 for list_predicted_ebm, x in zip(list_predicted_ebm,x)]\n",
    "#delete all the ones the filter passed over\n",
    "#subtracted_absolute_greater_than = [subtracted_absolute\n",
    "subtracted_absolute = [i for i in subtracted_absolute if i>15] \n",
    "fig, axn = plt.subplots()\n",
    "axn.hist(subtracted_absolute, bins = 60)\n",
    "axn.set_title('More Extreme Difference in Output Probability,\\n Logistic Minus EBM in Absolute Value')\n",
    "axn.set_ylabel('Frequency')\n",
    "axn.set_xlabel('Difference in Probability out of 1')\n",
    "#set_size(10,1)"
   ]
  },
  {
   "cell_type": "markdown",
   "metadata": {},
   "source": [
    "# The rest does not apply to this experiment"
   ]
  },
  {
   "cell_type": "code",
   "execution_count": 37,
   "metadata": {
    "scrolled": true
   },
   "outputs": [
    {
     "name": "stdout",
     "output_type": "stream",
     "text": [
      "<class 'list'>\n",
      "<class 'list'>\n"
     ]
    }
   ],
   "source": [
    "#Converting the logits to Probability. Seems like they were already in probability........\n",
    "#add index to the lists before \n",
    "#subtracteding and sort by biggest difference to identify which sample had the most disagreement\n",
    "\n",
    "#did that first subtraction even make sense given that there is a nonlinear conversion to the probability?!!!\n",
    "#you should convert to probablity before subtracting\n",
    "\n",
    "#https://sebastiansauer.github.io/convert_logit2prob/\n",
    "\n",
    "#have to round off floats to do the conversion\n",
    "logit = -2\n",
    "def to_probability(logit):\n",
    "    try:\n",
    "        for i in range(len(logit)):\n",
    "            odds = math.exp(logit[i])\n",
    "            prob = odds/ (1 + odds)\n",
    "            logit[i] = prob\n",
    "        return(logit)\n",
    "    except:\n",
    "        print(\"no\")\n",
    "print(type(newlist))\n",
    "print(type(list_predicted_ebm))"
   ]
  },
  {
   "cell_type": "code",
   "execution_count": 38,
   "metadata": {},
   "outputs": [],
   "source": [
    "#Model ensemble better?"
   ]
  },
  {
   "cell_type": "code",
   "execution_count": null,
   "metadata": {},
   "outputs": [],
   "source": []
  },
  {
   "cell_type": "code",
   "execution_count": null,
   "metadata": {},
   "outputs": [],
   "source": []
  },
  {
   "cell_type": "code",
   "execution_count": null,
   "metadata": {},
   "outputs": [],
   "source": []
  },
  {
   "cell_type": "code",
   "execution_count": null,
   "metadata": {},
   "outputs": [],
   "source": []
  },
  {
   "cell_type": "code",
   "execution_count": null,
   "metadata": {},
   "outputs": [],
   "source": []
  },
  {
   "cell_type": "code",
   "execution_count": null,
   "metadata": {},
   "outputs": [],
   "source": []
  }
 ],
 "metadata": {
  "kernelspec": {
   "display_name": "Python 3",
   "language": "python",
   "name": "python3"
  },
  "language_info": {
   "codemirror_mode": {
    "name": "ipython",
    "version": 3
   },
   "file_extension": ".py",
   "mimetype": "text/x-python",
   "name": "python",
   "nbconvert_exporter": "python",
   "pygments_lexer": "ipython3",
   "version": "3.7.3"
  }
 },
 "nbformat": 4,
 "nbformat_minor": 2
}
