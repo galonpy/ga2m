{
 "cells": [
  {
   "cell_type": "code",
   "execution_count": 67,
   "metadata": {},
   "outputs": [],
   "source": [
    "#A variable's single variable graph across each time subperiod\n",
    "#compared to its heatmap with a whole panel dataset against the variable of time\n",
    "\n",
    "#Dataset: panel data\n",
    "\n",
    "#Value to see if the result is consistent\n",
    "\n",
    "#how does the Sum of the predictor coefficients relate as a statistic to the observed probablity in the trained population\n",
    "#if you split up into subpopulations of higher risk does it associate monotonically"
   ]
  },
  {
   "cell_type": "code",
   "execution_count": 68,
   "metadata": {},
   "outputs": [],
   "source": [
    "import pandas as pd\n",
    "from sklearn.model_selection import train_test_split\n",
    "import pandas as pd\n",
    "import numpy as np\n",
    "import scipy.stats as st\n",
    "import matplotlib.pyplot as plt\n",
    "import seaborn as sn\n",
    "from sklearn.metrics import confusion_matrix\n",
    "import matplotlib.mlab as mlab\n",
    "%matplotlib inline\n",
    "from interpret import show\n",
    "from interpret.data import ClassHistogram\n",
    "from interpret.glassbox import ExplainableBoostingClassifier, LogisticRegression, ClassificationTree, DecisionListClassifier\n",
    "from interpret.perf import ROC\n",
    "from interpret.glassbox import LogisticRegression, ClassificationTree\n",
    "#without the class structure single shot each time\n",
    "from interpret import show\n",
    "from interpret.data import ClassHistogram\n",
    "from interpret.glassbox import ExplainableBoostingClassifier, LogisticRegression, ClassificationTree, DecisionListClassifier\n",
    "from interpret.perf import ROC\n",
    "from interpret.glassbox import LogisticRegression, ClassificationTree\n",
    "import collections\n",
    "import matplotlib.pylab as plt"
   ]
  },
  {
   "cell_type": "code",
   "execution_count": 69,
   "metadata": {},
   "outputs": [
    {
     "name": "stdout",
     "output_type": "stream",
     "text": [
      "Nan missing values by column\n",
      "education     105\n",
      "cigsPerDay     29\n",
      "BPMeds         53\n",
      "totChol        50\n",
      "BMI            19\n",
      "heartRate       1\n",
      "glucose       388\n",
      "dtype: int64\n",
      "<class 'pandas.core.frame.DataFrame'>\n",
      "Series([], dtype: int64)\n",
      "Series([], dtype: int64)\n",
      "Series([], dtype: int64)\n",
      "No Missing values remaining\n"
     ]
    }
   ],
   "source": [
    "#Upload Data and Data Cleanup\n",
    "\n",
    "df = pd.read_csv(\"/Users/gabrielalon/Desktop/heartdisease.csv\")\n",
    "df.columns = [\n",
    "    \"male\",\"age\",\"education\",\"currentSmoker\",\"cigsPerDay\",\"BPMeds\",\"prevalentStroke\",\"prevalentHyp\",\"diabetes\",\"totChol\",\"sysBP\",\"diaBP\",\"BMI\",\"heartRate\",\"glucose\",\"TenYearCHD\"\n",
    "]\n",
    "print(\"Nan missing values by column\")\n",
    "#Number of Nans by column\n",
    "missing_val_count_by_column = (df.isnull().sum())\n",
    "print(missing_val_count_by_column[missing_val_count_by_column > 0])\n",
    "print(type(df))\n",
    "df.fillna(df.mean(), inplace=True)\n",
    "missing_val_count_by_column = (df.isnull().sum())\n",
    "print(missing_val_count_by_column[missing_val_count_by_column > 0])\n",
    "df.head()\n",
    "missing_val_count_by_column = (df.isnull().sum())\n",
    "print(missing_val_count_by_column[missing_val_count_by_column > 0])\n",
    "#dropping NaN rows\n",
    "\n",
    "print(missing_val_count_by_column[missing_val_count_by_column > 0])\n",
    "df.dropna(axis=0,inplace=True)\n",
    "\n",
    "missing_val_count_by_column = (df.isnull().sum())\n",
    "print(\"No Missing values remaining\")"
   ]
  },
  {
   "cell_type": "code",
   "execution_count": 70,
   "metadata": {},
   "outputs": [],
   "source": [
    "#df = pd.read_csv(\"/Users/gabrielalon/Desktop/heart.csv\")\n",
    "#df.columns = [\"Age\", \"sex\", \"cp\", \"trestbps\", \"chol\", \"fbs\", \"restecg\", \"thalach\", \"exang\", \"oldpeak\", \"slope\", \"ca\", \"thal\", \"target\"]\n",
    "#df.fillna(df.mean(), inplace=True)\n",
    "#missing_val_count_by_column = (df.isnull().sum())\n",
    "#print(missing_val_count_by_column[missing_val_count_by_column > 0])\n",
    "#df.head()\n",
    "#Total = sum(df.TenYearCHD)\n",
    "#print (Total)"
   ]
  },
  {
   "cell_type": "markdown",
   "metadata": {},
   "source": [
    "# Data Manipulation"
   ]
  },
  {
   "cell_type": "code",
   "execution_count": 71,
   "metadata": {},
   "outputs": [
    {
     "name": "stdout",
     "output_type": "stream",
     "text": [
      "Number of samples\n",
      "4240\n",
      "Number of samples in each dataset now\n",
      "424\n"
     ]
    }
   ],
   "source": [
    "#Split my data into 10 datasets\n",
    "#Here they are randomly sampled from the originalk dataset and all are 1/10th its size\n",
    "\n",
    "print(\"Number of samples\")\n",
    "print(len(df))\n",
    "df1 = df.sample(frac=0.1)\n",
    "df2 = df.sample(frac=0.1)\n",
    "df3 = df.sample(frac=0.1)\n",
    "df4 = df.sample(frac=0.1)\n",
    "df5 = df.sample(frac=0.1)\n",
    "df6 = df.sample(frac=0.1)\n",
    "df7 = df.sample(frac=0.1)\n",
    "df8 = df.sample(frac=0.1)\n",
    "df9 = df.sample(frac=0.1)\n",
    "df10 = df.sample(frac=0.1)\n",
    "print(\"Number of samples in each dataset now\")\n",
    "print(len(df1))\n"
   ]
  },
  {
   "cell_type": "markdown",
   "metadata": {},
   "source": [
    "# Data Manipulation"
   ]
  },
  {
   "cell_type": "code",
   "execution_count": 72,
   "metadata": {},
   "outputs": [],
   "source": [
    "#creating a time period label so that each dataset now belongs to a different period of time\n",
    "#EX: df1 is year 1, df2 is year 2, df3 is year 3 etc. he\n",
    "\n",
    "#**check if this has ordinal properties ie: 10 not treated more special than lower value time periods\n",
    "#could reverse order the time label with the same data and see if the pattern reverses or is magnitude of time label dependent\n",
    "#rather than sequence dependent**\n",
    "\n",
    "df1_copy = df1\n",
    "num1 = [1]*len(df1_copy)\n",
    "df2_copy = df2\n",
    "num2 = [2]*len(df2_copy)\n",
    "df3_copy = df3\n",
    "num3 = [3]*len(df3_copy)\n",
    "df4_copy = df4\n",
    "num4 = [4]*len(df4_copy)\n",
    "df5_copy = df5\n",
    "num5 = [5]*len(df5_copy)\n",
    "df6_copy = df6\n",
    "num6 = [6]*len(df6_copy)\n",
    "df7_copy = df7\n",
    "num7 = [7]*len(df7_copy)\n",
    "df8_copy = df8\n",
    "num8 = [8]*len(df8_copy)\n",
    "df9_copy = df9\n",
    "num9 = [9]*len(df9_copy)\n",
    "df10_copy = df10\n",
    "num10 = [10]*len(df10_copy)\n",
    "\n",
    "\"\"\"\n",
    "df1['year'] = (num1)\n",
    "df2['year'] = (num2)\n",
    "df3['year'] = (num3)\n",
    "df4['year'] = (num4)\n",
    "df5['year'] = (num5)\n",
    "df6['year'] = (num6)\n",
    "df7['year'] = (num7)\n",
    "df8['year'] = (num8)\n",
    "df9['year'] = (num9)\n",
    "df10['year'] = (num10)\n",
    "\"\"\"\n",
    "\n",
    "df1.insert(0,'panel_year',num1)\n",
    "df2.insert(0,'panel_year',num2)\n",
    "df3.insert(0,'panel_year',num3)\n",
    "df4.insert(0,'panel_year',num4)\n",
    "df5.insert(0,'panel_year',num5)\n",
    "df6.insert(0,'panel_year',num6)\n",
    "df7.insert(0,'panel_year',num7)\n",
    "df8.insert(0,'panel_year',num8)\n",
    "df9.insert(0,'panel_year',num9)\n",
    "df10.insert(0,'panel_year',num10)\n"
   ]
  },
  {
   "cell_type": "code",
   "execution_count": 73,
   "metadata": {},
   "outputs": [],
   "source": [
    "#If you uncomment these you will see that the \"year label\" is present and matches the dataset name\n",
    "#ie: there is a year 3 column in the dataset three\n",
    "#print(df1)\n",
    "#print(df10)"
   ]
  },
  {
   "cell_type": "markdown",
   "metadata": {},
   "source": [
    "# Data Manipulation "
   ]
  },
  {
   "cell_type": "code",
   "execution_count": 74,
   "metadata": {},
   "outputs": [],
   "source": [
    "#this block is another component for experimentaiton\n",
    "#here the systolic blood pressure data is being manipulated so that there is a trend\n",
    "#in the underlying data from one time period to the next in an increasing fashion.\n",
    "\n",
    "df1['sysBP'] = 1.05*df1['sysBP']\n",
    "df2['sysBP'] = 1.1*df2['sysBP']\n",
    "df3['sysBP'] = 1.15*df3['sysBP']\n",
    "df4['sysBP'] = 1.2*df4['sysBP']\n",
    "df5['sysBP'] = 1.25*df5['sysBP']\n",
    "df6['sysBP'] = 1.3*df6['sysBP']\n",
    "df7['sysBP'] = 1.35*df7['sysBP']\n",
    "df8['sysBP'] = 1.4*df8['sysBP']\n",
    "df9['sysBP'] = 1.45*df9['sysBP']\n",
    "df10['sysBP'] = 10*df10['sysBP']\n",
    "\n"
   ]
  },
  {
   "cell_type": "code",
   "execution_count": 75,
   "metadata": {},
   "outputs": [
    {
     "data": {
      "text/plain": [
       "'\\ndelete?\\na = df2.iloc[0,1]\\nb = df2.iloc[1,1]\\nprint(a,b)\\n#row, column\\ndf2.iloc[0:3,16:17]\\n'"
      ]
     },
     "execution_count": 75,
     "metadata": {},
     "output_type": "execute_result"
    }
   ],
   "source": [
    "\"\"\"\n",
    "delete?\n",
    "a = df2.iloc[0,1]\n",
    "b = df2.iloc[1,1]\n",
    "print(a,b)\n",
    "#row, column\n",
    "df2.iloc[0:3,16:17]\n",
    "\"\"\""
   ]
  },
  {
   "cell_type": "markdown",
   "metadata": {},
   "source": [
    "# Data Manipulation"
   ]
  },
  {
   "cell_type": "code",
   "execution_count": 76,
   "metadata": {},
   "outputs": [],
   "source": [
    "#Or manipulate the dependent variables of only one outcome state at a time for a clear signal.\n",
    "#Here im manipulating all rows where the patient got the disease by increasing the number of cigarretes all of them smoked\n",
    "#by 30%\n",
    "for i in range(len(df1)):\n",
    "    if df2.iloc[i,16] == 1:\n",
    "        df2.iloc[i,5] = df2.iloc[i,5]*5\n"
   ]
  },
  {
   "cell_type": "code",
   "execution_count": 117,
   "metadata": {},
   "outputs": [],
   "source": [
    "frames = [df1,df2,df3,df4,df5,df6,df7,df8,df9,df10]\n",
    "panel_data = pd.concat(frames, sort=False)\n"
   ]
  },
  {
   "cell_type": "code",
   "execution_count": 118,
   "metadata": {},
   "outputs": [],
   "source": [
    "def splitting(df):\n",
    "    df = df\n",
    "    train_cols = df.columns[0:-1]\n",
    "    label = df.columns[-1]\n",
    "    X = df[train_cols]\n",
    "    y = df[label] \n",
    "    #y = df[label].apply(lambda x: 0 if x == \" <=50K\" else 1) #Turning response into 0 and 1\n",
    "    seed = 1\n",
    "    X_train, X_test, y_train, y_test = train_test_split(X, y, test_size=0.20, random_state=seed)\n",
    "    return [X_train, y_train, X_test, y_test, X, y]\n",
    "        "
   ]
  },
  {
   "cell_type": "code",
   "execution_count": 119,
   "metadata": {},
   "outputs": [],
   "source": [
    "class ga2m:\n",
    "    def __init__(self, df):\n",
    "        self.df = df\n",
    "        self.globals = 0\n",
    "        \n",
    "    def splitting(df):\n",
    "            df = df\n",
    "            train_cols = df.columns[0:-1]\n",
    "            label = df.columns[-1]\n",
    "            X = df[train_cols]\n",
    "            y = df[label] \n",
    "            #y = df[label].apply(lambda x: 0 if x == \" <=50K\" else 1) #Turning response into 0 and 1\n",
    "            seed = 1\n",
    "            X_train, X_test, y_train, y_test = train_test_split(X, y, test_size=0.20, random_state=seed)\n",
    "            return [X_train, y_train, X_test, y_test, X, y]\n",
    "        \n",
    "    splitting = splitting(df1)\n",
    "    X_train = splitting[0] \n",
    "    y_train = splitting[1]\n",
    "    X_test = splitting[2] \n",
    "    y_test = splitting[3]\n",
    "    X = splitting[4]\n",
    "    y = splitting[5]\n",
    "\n",
    "        \n",
    "    def plot(self):\n",
    "        df = self.df\n",
    "        from interpret import show\n",
    "        from interpret.data import ClassHistogram\n",
    "        from interpret.glassbox import ExplainableBoostingClassifier, LogisticRegression, ClassificationTree, DecisionListClassifier\n",
    "        from interpret.perf import ROC\n",
    "        from interpret.glassbox import LogisticRegression, ClassificationTree\n",
    "        train_cols = df.columns[0:-1]\n",
    "        label = df.columns[-1]\n",
    "        X = df[train_cols]\n",
    "        y = df[label] \n",
    "        #y = df[label].apply(lambda x: 0 if x == \" <=50K\" else 1) #Turning response into 0 and 1\n",
    "\n",
    "        seed = 1\n",
    "        X_train, X_test, y_train, y_test = train_test_split(X, y, test_size=0.20, random_state=seed)\n",
    "\n",
    "        hist = ClassHistogram().explain_data(X_train, y_train, name = 'Train Data')\n",
    "        #show(hist)\n",
    "\n",
    "        #ebm = ExplainableBoostingClassifier(random_state=seed)\n",
    "       # ebm = ExplainableBoostingClassifier(interactions=[[0, 1], [2, 3]])\n",
    "        ebm = ExplainableBoostingClassifier(interactions=[[1, 5]])\n",
    "     #   ebm = ExplainableBoostingClassifier(interactions=1, random_state=seed)\n",
    "        ebm.fit(X_train, y_train)   #Works on dataframes and numpy arrays\n",
    "\n",
    "        ebm_global = ebm.explain_global(name='EBM')\n",
    "        self.globals = ebm_global\n",
    "       # return ebm_global\n",
    "        graph_data = ebm_global.data(-1)\n",
    "        return(graph_data)\n",
    "       # show(ebm_global)\n",
    "        ebm_local = ebm.explain_local(X_test[:5], y_test[:5], name='EBM')\n",
    "        #show(ebm_local)\n",
    "        ebm_perf = ROC(ebm.predict_proba).explain_perf(X_test, y_test, name='EBM')\n",
    "      #  show(ebm_perf)\n",
    "\n",
    "        # We have to transform categorical variables to use Logistic Regression and Decision Tree\n",
    "        X_enc = pd.get_dummies(X, prefix_sep='.')\n",
    "        feature_names = list(X_enc.columns)\n",
    "        X_train_enc, X_test_enc, y_train, y_test = train_test_split(X_enc, y, test_size=0.20, random_state=seed)\n",
    "\n",
    "        lr = LogisticRegression(random_state=seed, feature_names=feature_names, penalty='l1')\n",
    "        lr.fit(X_train_enc, y_train)\n",
    "        help(lr)\n",
    "\n",
    "        tree = ClassificationTree()\n",
    "        tree.fit(X_train_enc, y_train)\n",
    "\n",
    "        lr_perf = ROC(lr.predict_proba).explain_perf(X_test_enc, y_test, name='Logistic Regression')\n",
    "        tree_perf = ROC(tree.predict_proba).explain_perf(X_test_enc, y_test, name='Classification Tree')\n",
    "        print(type(tree_perf))\n",
    "      #  show(lr_perf)\n",
    "       # show(tree_perf)\n",
    "       # show(ebm_perf)\n",
    "\n",
    "        lr_global = lr.explain_global(name='LR')\n",
    "        tree_global = tree.explain_global(name='Tree')\n",
    "\n",
    "       # show(lr_global)\n",
    "      #  show(tree_global)\n",
    "       # show(ebm_global)\n",
    "     #   show([hist, lr_global, lr_perf, tree_global, tree_perf, ebm_global, ebm_perf], share_tables=True)"
   ]
  },
  {
   "cell_type": "code",
   "execution_count": 125,
   "metadata": {},
   "outputs": [],
   "source": [
    "#Run on each time period\n",
    "p0 = ga2m(df)\n",
    "p1 = ga2m(df1)\n",
    "p2 = ga2m(df2)\n",
    "p3 = ga2m(df3)\n",
    "p4 = ga2m(df4)\n",
    "p5 = ga2m(df5)\n",
    "p6 = ga2m(df6)\n",
    "p7 = ga2m(df7)\n",
    "p8 = ga2m(df8)\n",
    "p9 = ga2m(df9)\n",
    "\n",
    "\n",
    "result0 = p0.plot()\n",
    "result1 = p1.plot()\n",
    "result2 = p2.plot()\n",
    "result3 = p3.plot()\n",
    "result4 = p4.plot()\n",
    "result5 = p5.plot()\n",
    "result6 = p6.plot()\n",
    "result7 = p7.plot()\n",
    "result8 = p8.plot()\n",
    "result9 = p9.plot()\n",
    "#print((result1))\n",
    "#resultprime = p3.plot()\n",
    "results = []\n",
    "#all the pairwise heatmaps\n",
    "results = [result1, result2, result3, result4, result5, result6, result7, result8, result9]\n",
    "#print(results)"
   ]
  },
  {
   "cell_type": "markdown",
   "metadata": {},
   "source": [
    "# Set the Variable for whose 'specific' data will be accessed"
   ]
  },
  {
   "cell_type": "code",
   "execution_count": 127,
   "metadata": {},
   "outputs": [],
   "source": [
    "#delete?\n",
    "\n",
    "#'overall' is simply one value coefficient sumamary per variable \n",
    "#and doesn't vary for each variable like its actually defined\n",
    "\n",
    "#specific = (result0['specific'])\n",
    "#print(specific)"
   ]
  },
  {
   "cell_type": "code",
   "execution_count": null,
   "metadata": {},
   "outputs": [],
   "source": [
    "#frames \"input data\" =/ results \"output plot data\" =/ specifc_series \"output prediction data\""
   ]
  },
  {
   "cell_type": "code",
   "execution_count": 128,
   "metadata": {},
   "outputs": [],
   "source": [
    "specific_series = (result0['specific'],result1['specific'],result2['specific'],result3['specific'],result4['specific'],result5['specific'],result6['specific'],result7['specific'],result8['specific'],result9['specific'])"
   ]
  },
  {
   "cell_type": "code",
   "execution_count": 92,
   "metadata": {},
   "outputs": [],
   "source": [
    "#Validates whether its a single variable or a pairwise graph that i'm accessing\n",
    "#pairwise_index contains the indices of the pairwsie graphs at the tailend"
   ]
  },
  {
   "cell_type": "code",
   "execution_count": 94,
   "metadata": {},
   "outputs": [],
   "source": [
    "#[https://stackoverflow.com/questions/2868342/how-to-search-for-closest-value-in-a-lookup-table]\n",
    "import bisect\n",
    "#Returns the closest entry in the sorted list 'sorted' to 'value'. Returns an index rather than the value\n",
    "def find_closest(sorted, value):\n",
    " #   sorted_cp = sorted\n",
    "    sorted_cp = [x for x in sorted if str(x) != 'nan']\n",
    "  #  for i in range(len(sorted_cp)):\n",
    "   #     if sorted[i] == nan:\n",
    "    #        print(sorted[i])\n",
    "     #       del(sorted[i])\n",
    "            \n",
    "    if (value <= sorted_cp[0]):\n",
    "     #    return sorted[0]\n",
    "         return int(0)\n",
    "    if (value >= sorted_cp[-1]):\n",
    "    #    return sorted[-1]\n",
    "        return int(len(sorted_cp)-1)\n",
    "    insertpos = bisect.bisect(sorted_cp, value)\n",
    "    if (abs(sorted_cp[insertpos-1] - value) <= abs(sorted_cp[insertpos] - value)):\n",
    "     #   return sorted_cp[insertpos-1]\n",
    "        return(int(insertpos))-1\n",
    "    else:\n",
    "     #   return sorted_cp[insertpos]\n",
    "        return(int(insertpos))-1\n",
    "    \n",
    "#have to either forcerfully ignore nans and resort to the next closest value and or\n",
    "#identify the source of the nans. Or delete the Nan?\n",
    "\n",
    "#need to make doublesure this nan trick works and the value there isnt suppsoed to be zero"
   ]
  },
  {
   "cell_type": "markdown",
   "metadata": {},
   "source": [
    "# Need to find and output sortable range for pairwise heatmap\n",
    "#Need to validate they fixed the problem the software update was for i think its fine\n",
    "#Need to find the mapping of the actual variable name to its index in the graphs"
   ]
  },
  {
   "cell_type": "code",
   "execution_count": 95,
   "metadata": {},
   "outputs": [],
   "source": [
    "#pairwise uses x,y coordinates aka left and right in the data which the user has to specify"
   ]
  },
  {
   "cell_type": "code",
   "execution_count": 96,
   "metadata": {},
   "outputs": [],
   "source": [
    "specific = (result0['specific'])\n",
    "#where result# above is the dataset # trained on\n",
    "\n",
    "def range_pairwise(specific):\n",
    "    pairwise_indexer = []\n",
    "    for i in range(len(specific)):\n",
    "        for key, value in specific[i].items():\n",
    "            if key == 'type':\n",
    "                if (specific[i]['type']) == 'pairwise':\n",
    "                    #print(i)\n",
    "                    return True \n",
    "\n",
    "pairwise_index = []\n",
    "pairwise_index.append(range_pairwise(specific))\n",
    "\"\"\"\n",
    "def pairwise_bool(specific):\n",
    " #   pairwise_indexer = []\n",
    "    for i in range(len(specific)):\n",
    "        for key, value in specific[i].items():\n",
    "            if key == 'type':\n",
    "                if (specific[i]['type']) == 'pairwise':\n",
    "                    return True \n",
    "                    #print(i)\n",
    "                   # pairwise_indexer.append(i)\n",
    "\"\"\"\n",
    "def pairwise_bool(dependent_variable):\n",
    " #   pairwise_indexer = []=\n",
    "    if (specific[dependent_variable]['type']) == 'pairwise':\n",
    "        return True \n",
    "                    #print(i)\n",
    "                   # pairwise_indexer.append(i)"
   ]
  },
  {
   "cell_type": "code",
   "execution_count": 142,
   "metadata": {},
   "outputs": [],
   "source": [
    "#need mapping from dependent variable name to index. currently only accept index\n",
    "\n",
    "def pairwise_procedure(specific, dependent_variable, dependent_variable_value_x,dependent_variable_value_y):\n",
    "    #consider whether the user specifies the dependent variable name instead of the actual index\n",
    "    #perhaps range_pairwise should actual be a boolean for its pairwise\n",
    "    yaxis = specific[dependent_variable]['right_names']\n",
    "    xaxis = specific[dependent_variable]['left_names']\n",
    "    try:\n",
    "        xval  = find_closest(xaxis, dependent_variable_value_x)\n",
    "    except:\n",
    "        print(\"xval broke\")\n",
    "        print(xaxis)\n",
    "\n",
    "    try:\n",
    "        yval = find_closest(yaxis, dependent_variable_value_y)\n",
    "    except:\n",
    "        print(\"yval broke\")\n",
    "        print(yaxis)\n",
    "   # print(xval)\n",
    "  #  print(yval)\n",
    "    return (specific[dependent_variable]['scores'][int(yval)][int(xval)])\n",
    "   # test = (((specific[dependent_variable]['scores'][int(yval)][int(xval)])))\n",
    "  #  print((int(test))\n",
    "\n",
    "\n",
    "def single_var_procedure(specific, dependent_variable, dependent_variable_value):\n",
    "    try:\n",
    "        val = find_closest(specific[dependent_variable]['names'], dependent_variable_value)\n",
    "        return(specific[dependent_variable]['scores'][int(val)])\n",
    "  #  print(val)\n",
    "    except:\n",
    "        print(\"val broke\")\n",
    "\n",
    "\n",
    "def procedure(specific,dependent_variable, dependent_variable_value, *pairwise_y_val):\n",
    "    if pairwise_bool(dependent_variable):\n",
    "        try:\n",
    "            return pairwise_procedure(specific, dependent_variable, dependent_variable_value, *pairwise_y_val)\n",
    "        except:\n",
    "            print(\"missing an input coordinate\")\n",
    "    else:\n",
    "        if pairwise_y_val:\n",
    "            print(\"careful either the selection if the selection is not a pairwise graph the extra coordinate does not apply\")\n",
    "        return single_var_procedure(specific, dependent_variable, dependent_variable_value)\n",
    "\n"
   ]
  },
  {
   "cell_type": "markdown",
   "metadata": {},
   "source": [
    "# ITERATING through each dataset"
   ]
  },
  {
   "cell_type": "code",
   "execution_count": 143,
   "metadata": {},
   "outputs": [],
   "source": [
    "#counting all Nans everywhere\n"
   ]
  },
  {
   "cell_type": "markdown",
   "metadata": {},
   "source": [
    "#consider passing dataset index as explicit parameter to procedure function"
   ]
  },
  {
   "cell_type": "code",
   "execution_count": 153,
   "metadata": {
    "scrolled": false
   },
   "outputs": [
    {
     "name": "stdout",
     "output_type": "stream",
     "text": [
      "[-0.06967881890168982, 0.026378450521326452, 0.022982727414800536, -0.01689476118847552, -0.06101494476727132, 0.11626246544040955, -0.026594959597524406, 0.02560579613843912, -0.003209188352101322, 0.0774135331868556]\n"
     ]
    }
   ],
   "source": [
    "#the goal here is grab the trend across one pairwise graph for a pair of coordinates\n",
    "#specific series is an array of all the modeled datasets with outcomes\n",
    "#an issue is that there is either a null from my work or in the data. And are all nulls only at the tail?\\\n",
    "#need to figure out whether the procedure method pulls horizontally or vertically\n",
    "data_to_graph = []\n",
    "def across_datasets(graph_index, x, *y):\n",
    "    for i in specific_series:\n",
    "       # a = str(\"result0\")\n",
    "        specific = (i)\n",
    "      #  result = procedure(-1,50,51)\n",
    "      #  print(result, \"result\")\n",
    "       # data_to_graph.append(procedure(-1,50,51))\n",
    "        data_to_graph.append(procedure(specific, graph_index,x,*y))\n",
    "        #array([-0.17544706,  0.23725504])\n",
    "    #scores': array([-0.1678648 ,  0.20165577])\n",
    "    print(data_to_graph)\n",
    "across_datasets(3,0.5)\n",
    "#hello"
   ]
  },
  {
   "cell_type": "code",
   "execution_count": 154,
   "metadata": {
    "scrolled": true
   },
   "outputs": [
    {
     "data": {
      "text/html": [
       "<!-- http://127.0.0.1:7066/4720884496/ -->\n",
       "<iframe src=\"http://127.0.0.1:7066/4720884496/\" width=100% height=800 frameBorder=\"0\"></iframe>"
      ]
     },
     "metadata": {},
     "output_type": "display_data"
    }
   ],
   "source": [
    "show(p1.globals)"
   ]
  },
  {
   "cell_type": "code",
   "execution_count": 155,
   "metadata": {},
   "outputs": [
    {
     "data": {
      "text/html": [
       "<!-- http://127.0.0.1:7066/4721861264/ -->\n",
       "<iframe src=\"http://127.0.0.1:7066/4721861264/\" width=100% height=800 frameBorder=\"0\"></iframe>"
      ]
     },
     "metadata": {},
     "output_type": "display_data"
    }
   ],
   "source": [
    "show(p2.globals)"
   ]
  },
  {
   "cell_type": "code",
   "execution_count": 156,
   "metadata": {
    "scrolled": false
   },
   "outputs": [
    {
     "data": {
      "text/html": [
       "<!-- http://127.0.0.1:7066/4804563536/ -->\n",
       "<iframe src=\"http://127.0.0.1:7066/4804563536/\" width=100% height=800 frameBorder=\"0\"></iframe>"
      ]
     },
     "metadata": {},
     "output_type": "display_data"
    }
   ],
   "source": [
    "#ALL of the Data\n",
    "\n",
    "#for a dataset where time is a variable\n",
    "#extract the heatmap with time in the pairwise horizontally, and compare it to each time periods single variable\n",
    "#contribution value if each time period was run seperately\n",
    "panel_data\n",
    "panel_data_graph = ga2m(panel_data)\n",
    "result_panel = panel_data_graph.plot()\n",
    "specific_panel = (result_panel['specific'])\n",
    "show(panel_data_graph.globals)"
   ]
  },
  {
   "cell_type": "code",
   "execution_count": 157,
   "metadata": {},
   "outputs": [],
   "source": [
    "#need to reinitialize some ga2m parameters to compare the split up datasets to this?"
   ]
  },
  {
   "cell_type": "code",
   "execution_count": null,
   "metadata": {
    "scrolled": true
   },
   "outputs": [],
   "source": []
  },
  {
   "cell_type": "code",
   "execution_count": 158,
   "metadata": {},
   "outputs": [
    {
     "name": "stdout",
     "output_type": "stream",
     "text": [
      "combined data -0.06967881890168982\n",
      "\n",
      "mean 0.01788101319960652\n",
      "median 0.022982727414800536\n"
     ]
    }
   ],
   "source": [
    "from statistics import mean\n",
    "from statistics import median\n",
    "#print(mean(data_to_graph_split_periods))\n",
    "#print(statistics.median(data_to_graph_split_periods))\n",
    "data_to_graph_split_periods = data_to_graph[1:]\n",
    "data_to_graph_all_period = data_to_graph[0]\n",
    "print('combined data', data_to_graph_all_period)\n",
    "print()\n",
    "mean = (mean(data_to_graph_split_periods))\n",
    "median = (median(data_to_graph_split_periods))\n",
    "print('mean', mean)\n",
    "print('median', median)"
   ]
  },
  {
   "cell_type": "code",
   "execution_count": 159,
   "metadata": {},
   "outputs": [],
   "source": [
    "#Something weird with the plot references?"
   ]
  },
  {
   "cell_type": "markdown",
   "metadata": {},
   "source": [
    "# Split Data Values versus Combined Data"
   ]
  },
  {
   "cell_type": "code",
   "execution_count": 160,
   "metadata": {
    "scrolled": true
   },
   "outputs": [
    {
     "data": {
      "image/png": "[encoded data removed]",
      "text/plain": [
       "<Figure size 432x288 with 1 Axes>"
      ]
     },
     "metadata": {
      "needs_background": "light"
     },
     "output_type": "display_data"
    }
   ],
   "source": [
    "l1, = plt.plot(data_to_graph_split_periods) # Plot list. x-values assumed to be [0, 1, 2, 3]\n",
    "plt.grid()\n",
    "plt.xlabel('Time Period');\n",
    "plt.ylabel('Probability Contribution');\n",
    "plt.title('Probability Contribution as a Function of Time')\n",
    "l2, =  plt.plot(data_to_graph_all_period)\n",
    "plt.axhline(y=data_to_graph_all_period, color='r', linestyle='-')\n",
    "plt.axhline(y=mean, color='y', linestyle='-')\n",
    "plt.axhline(y=median, color='g', linestyle='-')\n",
    "plt.legend(['split periods', 'median', 'combined data', 'median'], loc='upper left')\n",
    "plt.show()"
   ]
  },
  {
   "cell_type": "code",
   "execution_count": null,
   "metadata": {},
   "outputs": [],
   "source": [
    "#WTF!^^^^ how can the overall effect be lower than all subgroups?"
   ]
  },
  {
   "cell_type": "code",
   "execution_count": null,
   "metadata": {
    "scrolled": true
   },
   "outputs": [],
   "source": []
  },
  {
   "cell_type": "code",
   "execution_count": null,
   "metadata": {},
   "outputs": [],
   "source": [
    "print(len((specific[-1]['left_names'][0:-1])))\n",
    "print(len((specific[-1]['left_names'])))\n",
    "print('\\n')\n",
    "print(len((specific[-1]['right_names'][0:-1])))\n",
    "#test = (specific[-1]['scores']).tolist()\n",
    "#print(min(test))\n",
    "print('\\n')\n",
    "print(len((specific[-1]['scores'])))\n",
    "print(len((specific[-1]['scores'][0])))\n",
    "print(len((specific[-1]['scores'][-1])))\n",
    "#are there actually 256*123 scores predefined? 31,000. That makes sense for every possible intersction of left*right\n",
    "#I think the 123 scores lists are all associated with a specific point in either the set of left names or the set of right names but not\n",
    "#both\n",
    "\n",
    "#i think it always takes from the y axis ('right names') and shows you horizontally each value"
   ]
  },
  {
   "cell_type": "code",
   "execution_count": null,
   "metadata": {},
   "outputs": [],
   "source": [
    "print('\\n', \"yo\")\n",
    "print(specific[1]['names'])\n",
    "print('\\n', \"yo\")\n",
    "print(specific[1]['scores'])\n",
    "print('\\n')\n",
    "print(specific[1]['scores_range'][-1])\n",
    "\n",
    "print(len(specific[1]['names']))\n",
    "print(len(specific[1]['scores']))"
   ]
  },
  {
   "cell_type": "code",
   "execution_count": null,
   "metadata": {
    "scrolled": true
   },
   "outputs": [],
   "source": [
    "#all of the heatmap value at the intersection of the \n",
    "#first coordinate (left,right) of each dataframe\n",
    "#Left and Right names correspond to coordinates, while scores\n",
    "#corresponds to the coefficient values computed by the model\n",
    "#for those coordinate input values from the sample\n",
    "#left is x axis\n",
    "print(specific[-1]['left_names'])\n",
    "print('\\n')\n",
    "print(specific[-1]['right_names'])\n",
    "print('\\n')\n",
    "print('scores 0', specific[-1]['scores'][0])\n",
    "print('\\n')\n",
    "print('scores 1', specific[-1]['scores'][1])\n",
    "print('\\n')\n",
    "print('scores 3', specific[-1]['scores'][2])\n",
    "print('\\n')\n",
    "print(specific[-1]['scores_range'][0])\n",
    "print('\\n')\n",
    "print(specific[-1]['scores_range'][1])\n",
    "\n",
    "\n",
    "\n",
    "#verift which pair of variables this heatmap is associated with"
   ]
  },
  {
   "cell_type": "code",
   "execution_count": null,
   "metadata": {
    "scrolled": true
   },
   "outputs": [],
   "source": [
    "#example of a heatmap score for a given pair of coordinates\n",
    "[33.0, Left\n",
    " [16.59, right\n",
    "   Its 0.041\n",
    "  #and check if its a 1:1 mapping of possible coordinate intersections and the # of values in the values table"
   ]
  },
  {
   "cell_type": "code",
   "execution_count": null,
   "metadata": {},
   "outputs": [],
   "source": [
    "#lookup table in between explicit ranges conforming\n",
    "#to the original researcher's stated rule\n",
    "#nearest defined value heuristic\n",
    "#\"for example lets say my training data has people aged \n",
    "#0-100 if you ask for a prediciton on someone who is \n",
    "#120 years old, we will simply use the same value as \n",
    "#we learned for the age 100 person\""
   ]
  },
  {
   "cell_type": "code",
   "execution_count": null,
   "metadata": {},
   "outputs": [],
   "source": [
    "#if time is horiz axis on heatmap then vertical axis is mined for data, V.Versa "
   ]
  },
  {
   "cell_type": "code",
   "execution_count": null,
   "metadata": {},
   "outputs": [],
   "source": [
    "\"\"\"\n",
    "print(\"structure for the single variable\")\n",
    "for key, value in specific[1].items() :\n",
    "    print(key)\n",
    "    print(key, type(specific[1][str(key)]))\n",
    "print('\\n')\n",
    "print(\"structure for the pairwise variable\")\n",
    "for key, value in specific[-1].items() :\n",
    "    print(key)\n",
    "    print(key, type(specific[-1][str(key)]))\n",
    "#\n",
    "\"\"\""
   ]
  },
  {
   "cell_type": "code",
   "execution_count": null,
   "metadata": {},
   "outputs": [],
   "source": [
    "#defining the contents\n",
    "\"\"\"\n",
    "structure for the single variable\n",
    "type\n",
    "type <class 'str'>\n",
    "names\n",
    "names <class 'list'>\n",
    "scores\n",
    "scores <class 'numpy.ndarray'>\n",
    "scores_range\n",
    "scores_range <class 'tuple'>\n",
    "upper_bounds\n",
    "upper_bounds <class 'numpy.ndarray'>\n",
    "lower_bounds\n",
    "lower_bounds <class 'numpy.ndarray'>\n",
    "density\n",
    "density <class 'dict'>\n",
    "\n",
    "\n",
    "structure for the pairwise variable\n",
    "type\n",
    "type <class 'str'>\n",
    "left_names\n",
    "left_names <class 'list'>\n",
    "right_names\n",
    "right_names <class 'list'>\n",
    "scores\n",
    "scores <class 'numpy.ndarray'>\n",
    "scores_range\n",
    "scores_range <class 'tuple'>\n",
    "\"\"\""
   ]
  },
  {
   "cell_type": "code",
   "execution_count": null,
   "metadata": {},
   "outputs": [],
   "source": []
  },
  {
   "cell_type": "code",
   "execution_count": null,
   "metadata": {},
   "outputs": [],
   "source": []
  },
  {
   "cell_type": "code",
   "execution_count": 103,
   "metadata": {},
   "outputs": [
    {
     "data": {
      "text/plain": [
       "\"\\nspecific = specific_panel\\nprint(specific[4])\\nprint(specific[4]['type'])\\nprint('\\n')\\nprint(pairwise_bool(4))\\n#procedure(4,50)\\n\""
      ]
     },
     "execution_count": 103,
     "metadata": {},
     "output_type": "execute_result"
    }
   ],
   "source": [
    "#delete this?\n",
    "\"\"\"\n",
    "specific = specific_panel\n",
    "print(specific[4])\n",
    "print(specific[4]['type'])\n",
    "print('\\n')\n",
    "print(pairwise_bool(4))\n",
    "#procedure(4,50)\n",
    "\"\"\""
   ]
  },
  {
   "cell_type": "code",
   "execution_count": null,
   "metadata": {},
   "outputs": [],
   "source": []
  },
  {
   "cell_type": "code",
   "execution_count": 93,
   "metadata": {},
   "outputs": [],
   "source": [
    "a = float('NaN')\n",
    "b = 5\n",
    "c = np.nan\n",
    "try:\n",
    "    if a>b:\n",
    "        print(\"yes\")\n",
    "except:\n",
    "    print(\"no\")\n",
    "try:\n",
    "    if b>c:\n",
    "        (print(\"go\"))\n",
    "except:\n",
    "    print(\"snow\")\n",
    "\n",
    "#the user can input a request to the right of the left of the Nan. The problem is that\n",
    "#this interferes with the binary search algorithm because its close to terminating when you are already comparing\n",
    "#it to the Nan itself. probably best to make a copy of the whole dataframe with the nan deleted then rerun#"
   ]
  }
 ],
 "metadata": {
  "kernelspec": {
   "display_name": "Python 3",
   "language": "python",
   "name": "python3"
  },
  "language_info": {
   "codemirror_mode": {
    "name": "ipython",
    "version": 3
   },
   "file_extension": ".py",
   "mimetype": "text/x-python",
   "name": "python",
   "nbconvert_exporter": "python",
   "pygments_lexer": "ipython3",
   "version": "3.7.5"
  }
 },
 "nbformat": 4,
 "nbformat_minor": 2
}
