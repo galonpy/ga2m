{
 "cells": [
  {
   "cell_type": "code",
   "execution_count": null,
   "metadata": {},
   "outputs": [],
   "source": [
    "#The integral of the area under each graph, and the ?area? of the heatmaps and compare against time subperiods\n",
    "\n",
    "#Dataset: any dataset\n",
    "\n",
    "#issue is that disregards natural population density?\n",
    "\n",
    "#why would this be better than actually observing that the natural incidence rates in the population went down?\n",
    "#even if the natural incidence rate in reality is dependent on sampling variation, can you scatually see\n",
    "#the true probaiblity in the graph? Highly subjective no?"
   ]
  }
 ],
 "metadata": {
  "kernelspec": {
   "display_name": "Python 3",
   "language": "python",
   "name": "python3"
  },
  "language_info": {
   "codemirror_mode": {
    "name": "ipython",
    "version": 3
   },
   "file_extension": ".py",
   "mimetype": "text/x-python",
   "name": "python",
   "nbconvert_exporter": "python",
   "pygments_lexer": "ipython3",
   "version": "3.7.3"
  }
 },
 "nbformat": 4,
 "nbformat_minor": 2
}
